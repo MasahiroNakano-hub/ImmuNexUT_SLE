{
 "cells": [
  {
   "cell_type": "markdown",
   "metadata": {},
   "source": [
    "# Here, we demonstrate how we perform variance partitioning analysis"
   ]
  },
  {
   "cell_type": "code",
   "execution_count": 1,
   "metadata": {},
   "outputs": [],
   "source": [
    "source(\"my.source.R\")\n",
    "options(stringsAsFactors=F)\n",
    "suppressPackageStartupMessages(library(RColorBrewer))\n",
    "suppressPackageStartupMessages(library(ggsci))\n",
    "suppressPackageStartupMessages(library(lme4))\n",
    "suppressPackageStartupMessages(library(variancePartition))"
   ]
  },
  {
   "cell_type": "code",
   "execution_count": 12,
   "metadata": {},
   "outputs": [],
   "source": [
    "celltype_reordered_27 = c(\"B05_NCD4\",\"B06_MCD4\",\"B01_Th1\",\"B02_Th2\",\"B03_TH17\",\"B04_Tfh\",\"B09_Fra1\",\"B07_aTreg\",\"B10_Fra3\",\"C01_NCD8\",\"C04_CmCD8\",\"C05_EmCD8\",\"C03_EffectorCD8\",\"G01_NK\",\"A01_NaiB\",\"A03_UnswMB\",\"A02_SwiMB\",\"A04_DNB\",\"A05_PB\",\"E02_CD16nMo\",\"E01_CD16pMo\",\"E04_Intermediate\",\"E03_NonClassical\",\"D01_mDC\",\"D02_pDC\",\"F01_Neu\",\"F02_LDG\")\n",
    "label = c(`B05_NCD4`=\"Naive CD4\",`B06_MCD4`=\"Mem CD4\",`B01_Th1`=\"Th1\",`B02_Th2`=\"Th2\",`B03_TH17`=\"Th17\",`B04_Tfh`=\"Tfh\",\n",
    "          `B09_Fra1`=\"Fr. I nTreg\",`B07_aTreg`=\"Fr. II eTreg\",`B10_Fra3`=\"Fr. III T\",\n",
    "          `C01_NCD8`=\"Naive CD8\",`C04_CmCD8`=\"CM CD8\",`C05_EmCD8`=\"EM CD8\",`C03_EffectorCD8`=\"TEMRA CD8\",`G01_NK`=\"NK\",\n",
    "          `A01_NaiB`=\"Naive B\",`A03_UnswMB`=\"USM B\",`A02_SwiMB`=\"SM B\",`A04_DNB`=\"DN B\",`A05_PB`=\"Plasmablast\",\n",
    "          `E02_CD16nMo`=\"CL Mono\",`E01_CD16pMo`=\"CD16p Mono\",`E04_Intermediate`=\"Int Mono\",`E03_NonClassical`=\"NC Mono\",\n",
    "          `D01_mDC`=\"mDC\",`D02_pDC`=\"pDC\",\n",
    "          `F01_Neu`=\"Neu\",`F02_LDG`=\"LDG\")\n",
    "label_df = as.data.frame(label) %>% rownames_to_column(\"subset\")\n",
    "labeller = as_labeller(label)\n",
    "celltype_corresp=fread_FT(\"data_ref/COI_27subset_color_list.txt\")"
   ]
  },
  {
   "cell_type": "markdown",
   "metadata": {},
   "source": [
    "## Make demodata\n",
    "### Assume the situation in which only disease activity contribute the data variation within SLE in PC1 of one cell type\n",
    "### We prepare inactive(n=10), LDA(n=10),MDA(n=10) and HDA(n=10)"
   ]
  },
  {
   "cell_type": "code",
   "execution_count": 83,
   "metadata": {},
   "outputs": [],
   "source": [
    "Metadata=data.frame(ID=paste0(\"SLE\",c(1:40)%>%formatC(width=2,flag=\"0\")),\n",
    "                                      Activity=c(rep(\"inactive\",10),rep(\"LDA\",10),rep(\"MDA\",10),rep(\"HDA\",10)),\n",
    "                                      age=rpois(40,45),      # integer at random, similar to actual data\n",
    "                                      sex=rep(c(rep(\"0Female\",9),\"1Male\"),4), # For each activity group, female:male = 9:1\n",
    "                                      PSLmg=rpois(40,5), # integer at random, mean 5mg/day \n",
    "                                      HCQ=rbinom(40,1,0.5), # 50% at random\n",
    "                                      MMF=rbinom(40,1,0.25), # 25% at random\n",
    "                                      TAC=rbinom(40,1,0.2))    # 20% at random"
   ]
  },
  {
   "cell_type": "code",
   "execution_count": 94,
   "metadata": {},
   "outputs": [],
   "source": [
    "Metadata=Metadata%>%mutate(Immunosuppressant=ifelse(HCQ==0&MMF==0&TAC==0,\"0No\",\n",
    "                                                             ifelse(HCQ==1&MMF==0&TAC==0,\"1HCQ\",\n",
    "                                                             ifelse(HCQ==0&MMF==1&TAC==0,\"2MMF\",\n",
    "                                                             ifelse(HCQ==0&MMF==0&TAC==1,\"3TAC\",\n",
    "                                                             ifelse(HCQ==1&MMF==1&TAC==0,\"4HCQMMF\",\n",
    "                                                             ifelse(HCQ==1&MMF==0&TAC==1,\"5HCQTAC\",\n",
    "                                                             ifelse(HCQ==0&MMF==1&TAC==1,\"6MMFTAC\",\"7HCQMMFTAC\")))))))) "
   ]
  },
  {
   "cell_type": "code",
   "execution_count": 95,
   "metadata": {
    "scrolled": false
   },
   "outputs": [
    {
     "data": {
      "text/html": [
       "<table class=\"dataframe\">\n",
       "<caption>A data.frame: 6 × 9</caption>\n",
       "<thead>\n",
       "\t<tr><th></th><th scope=col>ID</th><th scope=col>Activity</th><th scope=col>age</th><th scope=col>sex</th><th scope=col>PSLmg</th><th scope=col>HCQ</th><th scope=col>MMF</th><th scope=col>TAC</th><th scope=col>Immunosuppressant</th></tr>\n",
       "\t<tr><th></th><th scope=col>&lt;chr&gt;</th><th scope=col>&lt;chr&gt;</th><th scope=col>&lt;int&gt;</th><th scope=col>&lt;chr&gt;</th><th scope=col>&lt;int&gt;</th><th scope=col>&lt;int&gt;</th><th scope=col>&lt;int&gt;</th><th scope=col>&lt;int&gt;</th><th scope=col>&lt;chr&gt;</th></tr>\n",
       "</thead>\n",
       "<tbody>\n",
       "\t<tr><th scope=row>1</th><td>SLE01</td><td>inactive</td><td>37</td><td>0Female</td><td>2</td><td>1</td><td>0</td><td>0</td><td>1HCQ</td></tr>\n",
       "\t<tr><th scope=row>2</th><td>SLE02</td><td>inactive</td><td>35</td><td>0Female</td><td>4</td><td>0</td><td>1</td><td>0</td><td>2MMF</td></tr>\n",
       "\t<tr><th scope=row>3</th><td>SLE03</td><td>inactive</td><td>46</td><td>0Female</td><td>2</td><td>0</td><td>0</td><td>1</td><td>3TAC</td></tr>\n",
       "\t<tr><th scope=row>4</th><td>SLE04</td><td>inactive</td><td>41</td><td>0Female</td><td>4</td><td>1</td><td>0</td><td>0</td><td>1HCQ</td></tr>\n",
       "\t<tr><th scope=row>5</th><td>SLE05</td><td>inactive</td><td>48</td><td>0Female</td><td>4</td><td>1</td><td>0</td><td>0</td><td>1HCQ</td></tr>\n",
       "\t<tr><th scope=row>6</th><td>SLE06</td><td>inactive</td><td>41</td><td>0Female</td><td>9</td><td>1</td><td>0</td><td>0</td><td>1HCQ</td></tr>\n",
       "</tbody>\n",
       "</table>\n"
      ],
      "text/latex": [
       "A data.frame: 6 × 9\n",
       "\\begin{tabular}{r|lllllllll}\n",
       "  & ID & Activity & age & sex & PSLmg & HCQ & MMF & TAC & Immunosuppressant\\\\\n",
       "  & <chr> & <chr> & <int> & <chr> & <int> & <int> & <int> & <int> & <chr>\\\\\n",
       "\\hline\n",
       "\t1 & SLE01 & inactive & 37 & 0Female & 2 & 1 & 0 & 0 & 1HCQ\\\\\n",
       "\t2 & SLE02 & inactive & 35 & 0Female & 4 & 0 & 1 & 0 & 2MMF\\\\\n",
       "\t3 & SLE03 & inactive & 46 & 0Female & 2 & 0 & 0 & 1 & 3TAC\\\\\n",
       "\t4 & SLE04 & inactive & 41 & 0Female & 4 & 1 & 0 & 0 & 1HCQ\\\\\n",
       "\t5 & SLE05 & inactive & 48 & 0Female & 4 & 1 & 0 & 0 & 1HCQ\\\\\n",
       "\t6 & SLE06 & inactive & 41 & 0Female & 9 & 1 & 0 & 0 & 1HCQ\\\\\n",
       "\\end{tabular}\n"
      ],
      "text/markdown": [
       "\n",
       "A data.frame: 6 × 9\n",
       "\n",
       "| <!--/--> | ID &lt;chr&gt; | Activity &lt;chr&gt; | age &lt;int&gt; | sex &lt;chr&gt; | PSLmg &lt;int&gt; | HCQ &lt;int&gt; | MMF &lt;int&gt; | TAC &lt;int&gt; | Immunosuppressant &lt;chr&gt; |\n",
       "|---|---|---|---|---|---|---|---|---|---|\n",
       "| 1 | SLE01 | inactive | 37 | 0Female | 2 | 1 | 0 | 0 | 1HCQ |\n",
       "| 2 | SLE02 | inactive | 35 | 0Female | 4 | 0 | 1 | 0 | 2MMF |\n",
       "| 3 | SLE03 | inactive | 46 | 0Female | 2 | 0 | 0 | 1 | 3TAC |\n",
       "| 4 | SLE04 | inactive | 41 | 0Female | 4 | 1 | 0 | 0 | 1HCQ |\n",
       "| 5 | SLE05 | inactive | 48 | 0Female | 4 | 1 | 0 | 0 | 1HCQ |\n",
       "| 6 | SLE06 | inactive | 41 | 0Female | 9 | 1 | 0 | 0 | 1HCQ |\n",
       "\n"
      ],
      "text/plain": [
       "  ID    Activity age sex     PSLmg HCQ MMF TAC Immunosuppressant\n",
       "1 SLE01 inactive 37  0Female 2     1   0   0   1HCQ             \n",
       "2 SLE02 inactive 35  0Female 4     0   1   0   2MMF             \n",
       "3 SLE03 inactive 46  0Female 2     0   0   1   3TAC             \n",
       "4 SLE04 inactive 41  0Female 4     1   0   0   1HCQ             \n",
       "5 SLE05 inactive 48  0Female 4     1   0   0   1HCQ             \n",
       "6 SLE06 inactive 41  0Female 9     1   0   0   1HCQ             "
      ]
     },
     "metadata": {},
     "output_type": "display_data"
    }
   ],
   "source": [
    "head(Metadata)"
   ]
  },
  {
   "cell_type": "code",
   "execution_count": 96,
   "metadata": {},
   "outputs": [],
   "source": [
    "PCdata=Metadata%>%select(ID,Activity)%>%\n",
    "                                        mutate(PC1=ifelse(Activity==\"inactive\",-15,\n",
    "                                                                ifelse(Activity==\"LDA\",-5,\n",
    "                                                                ifelse(Activity==\"MDA\",5,\n",
    "                                                                ifelse(Activity==\"HDA\",15,NA)))))%>%\n",
    "                                        mutate(PC1=PC1+rnorm(40,mean=0,sd=2))%>%  # Add the standard error\n",
    "                                        select(-Activity)"
   ]
  },
  {
   "cell_type": "code",
   "execution_count": 97,
   "metadata": {
    "scrolled": true
   },
   "outputs": [
    {
     "data": {
      "text/html": [
       "<table class=\"dataframe\">\n",
       "<caption>A data.frame: 6 × 2</caption>\n",
       "<thead>\n",
       "\t<tr><th></th><th scope=col>ID</th><th scope=col>PC1</th></tr>\n",
       "\t<tr><th></th><th scope=col>&lt;chr&gt;</th><th scope=col>&lt;dbl&gt;</th></tr>\n",
       "</thead>\n",
       "<tbody>\n",
       "\t<tr><th scope=row>1</th><td>SLE01</td><td>-11.27469</td></tr>\n",
       "\t<tr><th scope=row>2</th><td>SLE02</td><td>-17.25258</td></tr>\n",
       "\t<tr><th scope=row>3</th><td>SLE03</td><td>-17.53857</td></tr>\n",
       "\t<tr><th scope=row>4</th><td>SLE04</td><td>-16.39624</td></tr>\n",
       "\t<tr><th scope=row>5</th><td>SLE05</td><td>-18.36535</td></tr>\n",
       "\t<tr><th scope=row>6</th><td>SLE06</td><td>-13.11855</td></tr>\n",
       "</tbody>\n",
       "</table>\n"
      ],
      "text/latex": [
       "A data.frame: 6 × 2\n",
       "\\begin{tabular}{r|ll}\n",
       "  & ID & PC1\\\\\n",
       "  & <chr> & <dbl>\\\\\n",
       "\\hline\n",
       "\t1 & SLE01 & -11.27469\\\\\n",
       "\t2 & SLE02 & -17.25258\\\\\n",
       "\t3 & SLE03 & -17.53857\\\\\n",
       "\t4 & SLE04 & -16.39624\\\\\n",
       "\t5 & SLE05 & -18.36535\\\\\n",
       "\t6 & SLE06 & -13.11855\\\\\n",
       "\\end{tabular}\n"
      ],
      "text/markdown": [
       "\n",
       "A data.frame: 6 × 2\n",
       "\n",
       "| <!--/--> | ID &lt;chr&gt; | PC1 &lt;dbl&gt; |\n",
       "|---|---|---|\n",
       "| 1 | SLE01 | -11.27469 |\n",
       "| 2 | SLE02 | -17.25258 |\n",
       "| 3 | SLE03 | -17.53857 |\n",
       "| 4 | SLE04 | -16.39624 |\n",
       "| 5 | SLE05 | -18.36535 |\n",
       "| 6 | SLE06 | -13.11855 |\n",
       "\n"
      ],
      "text/plain": [
       "  ID    PC1      \n",
       "1 SLE01 -11.27469\n",
       "2 SLE02 -17.25258\n",
       "3 SLE03 -17.53857\n",
       "4 SLE04 -16.39624\n",
       "5 SLE05 -18.36535\n",
       "6 SLE06 -13.11855"
      ]
     },
     "metadata": {},
     "output_type": "display_data"
    }
   ],
   "source": [
    "head(PCdata)"
   ]
  },
  {
   "cell_type": "markdown",
   "metadata": {},
   "source": [
    "## First, we manually construct lmm and calculate the explained variance"
   ]
  },
  {
   "cell_type": "code",
   "execution_count": 98,
   "metadata": {},
   "outputs": [],
   "source": [
    "data_tmp=left_join(PCdata,Metadata,by=\"ID\")"
   ]
  },
  {
   "cell_type": "markdown",
   "metadata": {},
   "source": [
    "#### To estimate the variance from linear mixed model, maximum likelihood (ML) method (not REML) is suitable (https://bmcbioinformatics.biomedcentral.com/articles/10.1186/s12859-016-1323-z)"
   ]
  },
  {
   "cell_type": "code",
   "execution_count": 100,
   "metadata": {
    "scrolled": true
   },
   "outputs": [],
   "source": [
    "ML  = lmer(PC1 ~ (1|Activity)+PSLmg+(1|Immunosuppressant)+age+(1|sex), data_tmp, REML = FALSE, verbose = FALSE, na.action = na.omit)"
   ]
  },
  {
   "cell_type": "code",
   "execution_count": 102,
   "metadata": {
    "scrolled": true
   },
   "outputs": [
    {
     "data": {
      "text/plain": [
       " Groups            Name        Std.Dev.\n",
       " Immunosuppressant (Intercept)  0.39325\n",
       " Activity          (Intercept) 11.62248\n",
       " sex               (Intercept)  0.62511\n",
       " Residual                       2.18604"
      ]
     },
     "metadata": {},
     "output_type": "display_data"
    }
   ],
   "source": [
    "VarCorr(ML)"
   ]
  },
  {
   "cell_type": "code",
   "execution_count": 105,
   "metadata": {
    "scrolled": true
   },
   "outputs": [
    {
     "data": {
      "text/html": [
       "<style>\n",
       ".dl-inline {width: auto; margin:0; padding: 0}\n",
       ".dl-inline>dt, .dl-inline>dd {float: none; width: auto; display: inline-block}\n",
       ".dl-inline>dt::after {content: \":\\0020\"; padding-right: .5ex}\n",
       ".dl-inline>dt:not(:first-of-type) {padding-left: .5ex}\n",
       "</style><dl class=dl-inline><dt>Immunosuppressant</dt><dd>0.154643506784676</dd><dt>Activity</dt><dd>135.082021116563</dd><dt>sex</dt><dd>0.390767939568887</dd></dl>\n"
      ],
      "text/latex": [
       "\\begin{description*}\n",
       "\\item[Immunosuppressant] 0.154643506784676\n",
       "\\item[Activity] 135.082021116563\n",
       "\\item[sex] 0.390767939568887\n",
       "\\end{description*}\n"
      ],
      "text/markdown": [
       "Immunosuppressant\n",
       ":   0.154643506784676Activity\n",
       ":   135.082021116563sex\n",
       ":   0.390767939568887\n",
       "\n"
      ],
      "text/plain": [
       "Immunosuppressant          Activity               sex \n",
       "        0.1546435       135.0820211         0.3907679 "
      ]
     },
     "metadata": {},
     "output_type": "display_data"
    }
   ],
   "source": [
    "unlist(VarCorr(ML)) # Random effect terms, variance"
   ]
  },
  {
   "cell_type": "code",
   "execution_count": 106,
   "metadata": {
    "scrolled": true
   },
   "outputs": [
    {
     "data": {
      "text/html": [
       "2.18604406331974"
      ],
      "text/latex": [
       "2.18604406331974"
      ],
      "text/markdown": [
       "2.18604406331974"
      ],
      "text/plain": [
       "[1] 2.186044"
      ]
     },
     "metadata": {},
     "output_type": "display_data"
    }
   ],
   "source": [
    "attr(VarCorr(ML), \"sc\") # Residual term, sd"
   ]
  },
  {
   "cell_type": "code",
   "execution_count": 107,
   "metadata": {},
   "outputs": [],
   "source": [
    "Var_Random_effect = unlist(VarCorr(ML))\n",
    "Var_Residual = attr(VarCorr(ML), \"sc\")^2\n",
    "Var_Ramdom   = c(Var_Random_effect,Var_Residual)"
   ]
  },
  {
   "cell_type": "code",
   "execution_count": 110,
   "metadata": {},
   "outputs": [
    {
     "data": {
      "text/html": [
       "<style>\n",
       ".dl-inline {width: auto; margin:0; padding: 0}\n",
       ".dl-inline>dt, .dl-inline>dd {float: none; width: auto; display: inline-block}\n",
       ".dl-inline>dt::after {content: \":\\0020\"; padding-right: .5ex}\n",
       ".dl-inline>dt:not(:first-of-type) {padding-left: .5ex}\n",
       "</style><dl class=dl-inline><dt>Immunosuppressant</dt><dd>0.154643506784676</dd><dt>Activity</dt><dd>135.082021116563</dd><dt>sex</dt><dd>0.390767939568887</dd><dt>4</dt><dd>4.77878864677547</dd></dl>\n"
      ],
      "text/latex": [
       "\\begin{description*}\n",
       "\\item[Immunosuppressant] 0.154643506784676\n",
       "\\item[Activity] 135.082021116563\n",
       "\\item[sex] 0.390767939568887\n",
       "\\item[4] 4.77878864677547\n",
       "\\end{description*}\n"
      ],
      "text/markdown": [
       "Immunosuppressant\n",
       ":   0.154643506784676Activity\n",
       ":   135.082021116563sex\n",
       ":   0.3907679395688874\n",
       ":   4.77878864677547\n",
       "\n"
      ],
      "text/plain": [
       "Immunosuppressant          Activity               sex                   \n",
       "        0.1546435       135.0820211         0.3907679         4.7787886 "
      ]
     },
     "metadata": {},
     "output_type": "display_data"
    }
   ],
   "source": [
    "Var_Ramdom"
   ]
  },
  {
   "cell_type": "code",
   "execution_count": 108,
   "metadata": {
    "scrolled": false
   },
   "outputs": [
    {
     "data": {
      "text/html": [
       "<table class=\"dataframe\">\n",
       "<caption>A matrix: 3 × 3 of type dbl</caption>\n",
       "<thead>\n",
       "\t<tr><th></th><th scope=col>Estimate</th><th scope=col>Std. Error</th><th scope=col>t value</th></tr>\n",
       "</thead>\n",
       "<tbody>\n",
       "\t<tr><th scope=row>(Intercept)</th><td> 3.99952147</td><td>6.41623423</td><td> 0.6233441</td></tr>\n",
       "\t<tr><th scope=row>PSLmg</th><td>-0.05736015</td><td>0.16312581</td><td>-0.3516314</td></tr>\n",
       "\t<tr><th scope=row>age</th><td>-0.07807038</td><td>0.05620809</td><td>-1.3889527</td></tr>\n",
       "</tbody>\n",
       "</table>\n"
      ],
      "text/latex": [
       "A matrix: 3 × 3 of type dbl\n",
       "\\begin{tabular}{r|lll}\n",
       "  & Estimate & Std. Error & t value\\\\\n",
       "\\hline\n",
       "\t(Intercept) &  3.99952147 & 6.41623423 &  0.6233441\\\\\n",
       "\tPSLmg & -0.05736015 & 0.16312581 & -0.3516314\\\\\n",
       "\tage & -0.07807038 & 0.05620809 & -1.3889527\\\\\n",
       "\\end{tabular}\n"
      ],
      "text/markdown": [
       "\n",
       "A matrix: 3 × 3 of type dbl\n",
       "\n",
       "| <!--/--> | Estimate | Std. Error | t value |\n",
       "|---|---|---|---|\n",
       "| (Intercept) |  3.99952147 | 6.41623423 |  0.6233441 |\n",
       "| PSLmg | -0.05736015 | 0.16312581 | -0.3516314 |\n",
       "| age | -0.07807038 | 0.05620809 | -1.3889527 |\n",
       "\n"
      ],
      "text/plain": [
       "            Estimate    Std. Error t value   \n",
       "(Intercept)  3.99952147 6.41623423  0.6233441\n",
       "PSLmg       -0.05736015 0.16312581 -0.3516314\n",
       "age         -0.07807038 0.05620809 -1.3889527"
      ]
     },
     "metadata": {},
     "output_type": "display_data"
    }
   ],
   "source": [
    "coef(summary(ML)) # fixed effect terms"
   ]
  },
  {
   "cell_type": "markdown",
   "metadata": {},
   "source": [
    "#### for fixed effects, variance explained(r^2) = beta^2 * var(x)/var(y)"
   ]
  },
  {
   "cell_type": "code",
   "execution_count": 109,
   "metadata": {},
   "outputs": [],
   "source": [
    "beta_Fixed_effect = coef(summary(ML))[2:3,1]\n",
    "var_Fixed_effect  = c(var(data_tmp$PSLmg),var(data_tmp$age))\n",
    "Var_Fixed = (beta_Fixed_effect^2) * var_Fixed_effect"
   ]
  },
  {
   "cell_type": "code",
   "execution_count": 111,
   "metadata": {},
   "outputs": [
    {
     "data": {
      "text/html": [
       "<style>\n",
       ".dl-inline {width: auto; margin:0; padding: 0}\n",
       ".dl-inline>dt, .dl-inline>dd {float: none; width: auto; display: inline-block}\n",
       ".dl-inline>dt::after {content: \":\\0020\"; padding-right: .5ex}\n",
       ".dl-inline>dt:not(:first-of-type) {padding-left: .5ex}\n",
       "</style><dl class=dl-inline><dt>PSLmg</dt><dd>0.0166850432488331</dd><dt>age</dt><dd>0.252984804523807</dd></dl>\n"
      ],
      "text/latex": [
       "\\begin{description*}\n",
       "\\item[PSLmg] 0.0166850432488331\n",
       "\\item[age] 0.252984804523807\n",
       "\\end{description*}\n"
      ],
      "text/markdown": [
       "PSLmg\n",
       ":   0.0166850432488331age\n",
       ":   0.252984804523807\n",
       "\n"
      ],
      "text/plain": [
       "     PSLmg        age \n",
       "0.01668504 0.25298480 "
      ]
     },
     "metadata": {},
     "output_type": "display_data"
    }
   ],
   "source": [
    "Var_Fixed"
   ]
  },
  {
   "cell_type": "code",
   "execution_count": 112,
   "metadata": {},
   "outputs": [],
   "source": [
    "Var_all=c(Var_Ramdom,Var_Fixed)\n",
    "Sum_all   = sum(Var_all)\n",
    "Var_all_std = data.frame(Var_all/Sum_all) %>%t() %>% as.data.frame()\n",
    "colnames(Var_all_std) = c(\"Immunosuppressant\",\"Activity\",\"Sex\",\"residual\",\"PSL\",\"Age\")\n",
    "rownames(Var_all_std) = \"PC1\""
   ]
  },
  {
   "cell_type": "code",
   "execution_count": 113,
   "metadata": {
    "scrolled": true
   },
   "outputs": [
    {
     "data": {
      "text/html": [
       "<table class=\"dataframe\">\n",
       "<caption>A data.frame: 1 × 6</caption>\n",
       "<thead>\n",
       "\t<tr><th></th><th scope=col>Immunosuppressant</th><th scope=col>Activity</th><th scope=col>Sex</th><th scope=col>residual</th><th scope=col>PSL</th><th scope=col>Age</th></tr>\n",
       "\t<tr><th></th><th scope=col>&lt;dbl&gt;</th><th scope=col>&lt;dbl&gt;</th><th scope=col>&lt;dbl&gt;</th><th scope=col>&lt;dbl&gt;</th><th scope=col>&lt;dbl&gt;</th><th scope=col>&lt;dbl&gt;</th></tr>\n",
       "</thead>\n",
       "<tbody>\n",
       "\t<tr><th scope=row>PC1</th><td>0.001099289</td><td>0.9602358</td><td>0.002777789</td><td>0.0339702</td><td>0.0001186063</td><td>0.001798352</td></tr>\n",
       "</tbody>\n",
       "</table>\n"
      ],
      "text/latex": [
       "A data.frame: 1 × 6\n",
       "\\begin{tabular}{r|llllll}\n",
       "  & Immunosuppressant & Activity & Sex & residual & PSL & Age\\\\\n",
       "  & <dbl> & <dbl> & <dbl> & <dbl> & <dbl> & <dbl>\\\\\n",
       "\\hline\n",
       "\tPC1 & 0.001099289 & 0.9602358 & 0.002777789 & 0.0339702 & 0.0001186063 & 0.001798352\\\\\n",
       "\\end{tabular}\n"
      ],
      "text/markdown": [
       "\n",
       "A data.frame: 1 × 6\n",
       "\n",
       "| <!--/--> | Immunosuppressant &lt;dbl&gt; | Activity &lt;dbl&gt; | Sex &lt;dbl&gt; | residual &lt;dbl&gt; | PSL &lt;dbl&gt; | Age &lt;dbl&gt; |\n",
       "|---|---|---|---|---|---|---|\n",
       "| PC1 | 0.001099289 | 0.9602358 | 0.002777789 | 0.0339702 | 0.0001186063 | 0.001798352 |\n",
       "\n"
      ],
      "text/plain": [
       "    Immunosuppressant Activity  Sex         residual  PSL          Age        \n",
       "PC1 0.001099289       0.9602358 0.002777789 0.0339702 0.0001186063 0.001798352"
      ]
     },
     "metadata": {},
     "output_type": "display_data"
    }
   ],
   "source": [
    "Var_all_std"
   ]
  },
  {
   "cell_type": "markdown",
   "metadata": {},
   "source": [
    "## Next, we use variancePartion package"
   ]
  },
  {
   "cell_type": "code",
   "execution_count": 116,
   "metadata": {},
   "outputs": [],
   "source": [
    "PCdata2=PCdata%>%column_to_rownames(\"ID\")%>%\n",
    "                                      t() %>% as.data.frame()"
   ]
  },
  {
   "cell_type": "code",
   "execution_count": 118,
   "metadata": {},
   "outputs": [
    {
     "data": {
      "text/html": [
       "<table class=\"dataframe\">\n",
       "<caption>A data.frame: 1 × 5</caption>\n",
       "<thead>\n",
       "\t<tr><th></th><th scope=col>SLE01</th><th scope=col>SLE02</th><th scope=col>SLE03</th><th scope=col>SLE04</th><th scope=col>SLE05</th></tr>\n",
       "\t<tr><th></th><th scope=col>&lt;dbl&gt;</th><th scope=col>&lt;dbl&gt;</th><th scope=col>&lt;dbl&gt;</th><th scope=col>&lt;dbl&gt;</th><th scope=col>&lt;dbl&gt;</th></tr>\n",
       "</thead>\n",
       "<tbody>\n",
       "\t<tr><th scope=row>PC1</th><td>-11.27469</td><td>-17.25258</td><td>-17.53857</td><td>-16.39624</td><td>-18.36535</td></tr>\n",
       "</tbody>\n",
       "</table>\n"
      ],
      "text/latex": [
       "A data.frame: 1 × 5\n",
       "\\begin{tabular}{r|lllll}\n",
       "  & SLE01 & SLE02 & SLE03 & SLE04 & SLE05\\\\\n",
       "  & <dbl> & <dbl> & <dbl> & <dbl> & <dbl>\\\\\n",
       "\\hline\n",
       "\tPC1 & -11.27469 & -17.25258 & -17.53857 & -16.39624 & -18.36535\\\\\n",
       "\\end{tabular}\n"
      ],
      "text/markdown": [
       "\n",
       "A data.frame: 1 × 5\n",
       "\n",
       "| <!--/--> | SLE01 &lt;dbl&gt; | SLE02 &lt;dbl&gt; | SLE03 &lt;dbl&gt; | SLE04 &lt;dbl&gt; | SLE05 &lt;dbl&gt; |\n",
       "|---|---|---|---|---|---|\n",
       "| PC1 | -11.27469 | -17.25258 | -17.53857 | -16.39624 | -18.36535 |\n",
       "\n"
      ],
      "text/plain": [
       "    SLE01     SLE02     SLE03     SLE04     SLE05    \n",
       "PC1 -11.27469 -17.25258 -17.53857 -16.39624 -18.36535"
      ]
     },
     "metadata": {},
     "output_type": "display_data"
    }
   ],
   "source": [
    "headd(PCdata2)"
   ]
  },
  {
   "cell_type": "code",
   "execution_count": 119,
   "metadata": {},
   "outputs": [
    {
     "name": "stderr",
     "output_type": "stream",
     "text": [
      "Dividing work into 1 chunks...\n",
      "\n",
      "\n",
      "\n",
      "\n",
      "Total:1 s\n",
      "\n"
     ]
    }
   ],
   "source": [
    "form = ~ (1|Activity)+PSLmg+(1|Immunosuppressant)+age+(1|sex)\n",
    "varPart = fitExtractVarPartModel( PCdata2, form, Metadata ) %>% as.data.frame()"
   ]
  },
  {
   "cell_type": "code",
   "execution_count": 120,
   "metadata": {
    "scrolled": true
   },
   "outputs": [
    {
     "data": {
      "text/html": [
       "<table class=\"dataframe\">\n",
       "<caption>A data.frame: 1 × 6</caption>\n",
       "<thead>\n",
       "\t<tr><th></th><th scope=col>Activity</th><th scope=col>Immunosuppressant</th><th scope=col>sex</th><th scope=col>PSLmg</th><th scope=col>age</th><th scope=col>Residuals</th></tr>\n",
       "\t<tr><th></th><th scope=col>&lt;dbl&gt;</th><th scope=col>&lt;dbl&gt;</th><th scope=col>&lt;dbl&gt;</th><th scope=col>&lt;dbl&gt;</th><th scope=col>&lt;dbl&gt;</th><th scope=col>&lt;dbl&gt;</th></tr>\n",
       "</thead>\n",
       "<tbody>\n",
       "\t<tr><th scope=row>PC1</th><td>0.9602455</td><td>0.001099301</td><td>0.002777817</td><td>0.0001179787</td><td>0.001788837</td><td>0.03397055</td></tr>\n",
       "</tbody>\n",
       "</table>\n"
      ],
      "text/latex": [
       "A data.frame: 1 × 6\n",
       "\\begin{tabular}{r|llllll}\n",
       "  & Activity & Immunosuppressant & sex & PSLmg & age & Residuals\\\\\n",
       "  & <dbl> & <dbl> & <dbl> & <dbl> & <dbl> & <dbl>\\\\\n",
       "\\hline\n",
       "\tPC1 & 0.9602455 & 0.001099301 & 0.002777817 & 0.0001179787 & 0.001788837 & 0.03397055\\\\\n",
       "\\end{tabular}\n"
      ],
      "text/markdown": [
       "\n",
       "A data.frame: 1 × 6\n",
       "\n",
       "| <!--/--> | Activity &lt;dbl&gt; | Immunosuppressant &lt;dbl&gt; | sex &lt;dbl&gt; | PSLmg &lt;dbl&gt; | age &lt;dbl&gt; | Residuals &lt;dbl&gt; |\n",
       "|---|---|---|---|---|---|---|\n",
       "| PC1 | 0.9602455 | 0.001099301 | 0.002777817 | 0.0001179787 | 0.001788837 | 0.03397055 |\n",
       "\n"
      ],
      "text/plain": [
       "    Activity  Immunosuppressant sex         PSLmg        age         Residuals \n",
       "PC1 0.9602455 0.001099301       0.002777817 0.0001179787 0.001788837 0.03397055"
      ]
     },
     "metadata": {},
     "output_type": "display_data"
    }
   ],
   "source": [
    "varPart"
   ]
  },
  {
   "cell_type": "markdown",
   "metadata": {},
   "source": [
    "#### Almost identical with manually calculated results!!"
   ]
  },
  {
   "cell_type": "markdown",
   "metadata": {},
   "source": [
    "## In actual data analysis, we used variancePartition package"
   ]
  },
  {
   "cell_type": "markdown",
   "metadata": {},
   "source": [
    "### Total variance partition"
   ]
  },
  {
   "cell_type": "code",
   "execution_count": 8,
   "metadata": {},
   "outputs": [],
   "source": [
    "condition_clinical= read.table_FT(\"data/SLEinc_andHC/211124_COI_SLEinc_andHC_27subsets_cond_wclinical.txt\") %>% \n",
    "                    mutate(Immunosuppressant=ifelse(HCQ==\"0No\"&MMF==\"0No\"&TAC==\"0No\",\"0No\",\n",
    "                                             ifelse(HCQ==\"1Yes\"&MMF==\"0No\"&TAC==\"0No\",\"1HCQ\",\n",
    "                                             ifelse(HCQ==\"0No\"&MMF==\"1Yes\"&TAC==\"0No\",\"2MMF\",\n",
    "                                             ifelse(HCQ==\"0No\"&MMF==\"0No\"&TAC==\"1Yes\",\"3TAC\",\n",
    "                                             ifelse(HCQ==\"1Yes\"&MMF==\"1Yes\"&TAC==\"0No\",\"4HCQMMF\",\n",
    "                                             ifelse(HCQ==\"1Yes\"&MMF==\"0No\"&TAC==\"1Yes\",\"5HCQTAC\",\n",
    "                                             ifelse(HCQ==\"0No\"&MMF==\"1Yes\"&TAC==\"1Yes\",\"6MMFTAC\",\"7HCQMMFTAC\")))))))) \n",
    "\n",
    "name_list = condition_clinical %>%select(name,id,disease,subset,lotseq,age,gender,Activity,constitutional,mucocutaneous,musculoskeletal,renal,extrarenal,hematological,serological,PSLmg,Immunosuppressant,HCQ,MMF,TAC) \n",
    "name_list$disease  = factor(name_list$disease,levels=c(\"0HC\",\"1SLE\"))\n",
    "name_list$lotseq 　= factor(name_list$lotseq,levels=c(\"Lot3_HiSeq\",\"Lot1_HiSeq\",\"Lot2_HiSeq\",\"Lot4_HiSeq\",\"Lot5_HiSeq\",\"Lot5_NovaSeq\"))\n",
    "name_list$Activity = factor(name_list$Activity,levels=c(\"0HC\",\"1Inactive\",\"2LDA\",\"3MDA\",\"4HDA\"))\n",
    "name_list$Immunosuppressant = factor(name_list$Immunosuppressant,levels=sort(unique(name_list$Immunosuppressant)))\n",
    "\n",
    "name_list_SLE=name_list%>%filter(disease==\"1SLE\")"
   ]
  },
  {
   "cell_type": "code",
   "execution_count": 7,
   "metadata": {},
   "outputs": [],
   "source": [
    "list = fread_FT(\"tmp_job_list/211128_COI_SLEuniqueandHC_27subsets_AfterCombat_PCres_list.txt\")"
   ]
  },
  {
   "cell_type": "code",
   "execution_count": 10,
   "metadata": {
    "scrolled": true
   },
   "outputs": [
    {
     "name": "stdout",
     "output_type": "stream",
     "text": [
      "[1] TRUE\n"
     ]
    },
    {
     "name": "stderr",
     "output_type": "stream",
     "text": [
      "Dividing work into 1 chunks...\n",
      "\n",
      "\n",
      "Total:4 s\n",
      "\n"
     ]
    },
    {
     "name": "stdout",
     "output_type": "stream",
     "text": [
      "[1] TRUE\n"
     ]
    },
    {
     "name": "stderr",
     "output_type": "stream",
     "text": [
      "Dividing work into 1 chunks...\n",
      "\n",
      "\n",
      "Total:4 s\n",
      "\n"
     ]
    },
    {
     "name": "stdout",
     "output_type": "stream",
     "text": [
      "[1] TRUE\n"
     ]
    },
    {
     "name": "stderr",
     "output_type": "stream",
     "text": [
      "Dividing work into 1 chunks...\n",
      "\n",
      "\n",
      "Total:4 s\n",
      "\n"
     ]
    },
    {
     "name": "stdout",
     "output_type": "stream",
     "text": [
      "[1] TRUE\n"
     ]
    },
    {
     "name": "stderr",
     "output_type": "stream",
     "text": [
      "Dividing work into 1 chunks...\n",
      "\n",
      "\n",
      "Total:4 s\n",
      "\n"
     ]
    },
    {
     "name": "stdout",
     "output_type": "stream",
     "text": [
      "[1] TRUE\n"
     ]
    },
    {
     "name": "stderr",
     "output_type": "stream",
     "text": [
      "Dividing work into 1 chunks...\n",
      "\n",
      "\n",
      "Total:4 s\n",
      "\n"
     ]
    },
    {
     "name": "stdout",
     "output_type": "stream",
     "text": [
      "[1] TRUE\n"
     ]
    },
    {
     "name": "stderr",
     "output_type": "stream",
     "text": [
      "Dividing work into 1 chunks...\n",
      "\n",
      "\n",
      "Total:4 s\n",
      "\n"
     ]
    },
    {
     "name": "stdout",
     "output_type": "stream",
     "text": [
      "[1] TRUE\n"
     ]
    },
    {
     "name": "stderr",
     "output_type": "stream",
     "text": [
      "Dividing work into 1 chunks...\n",
      "\n",
      "\n",
      "Total:4 s\n",
      "\n"
     ]
    },
    {
     "name": "stdout",
     "output_type": "stream",
     "text": [
      "[1] TRUE\n"
     ]
    },
    {
     "name": "stderr",
     "output_type": "stream",
     "text": [
      "Dividing work into 1 chunks...\n",
      "\n",
      "\n",
      "Total:4 s\n",
      "\n"
     ]
    },
    {
     "name": "stdout",
     "output_type": "stream",
     "text": [
      "[1] TRUE\n"
     ]
    },
    {
     "name": "stderr",
     "output_type": "stream",
     "text": [
      "Dividing work into 1 chunks...\n",
      "\n",
      "\n",
      "Total:4 s\n",
      "\n"
     ]
    },
    {
     "name": "stdout",
     "output_type": "stream",
     "text": [
      "[1] TRUE\n"
     ]
    },
    {
     "name": "stderr",
     "output_type": "stream",
     "text": [
      "Dividing work into 1 chunks...\n",
      "\n",
      "\n",
      "Total:5 s\n",
      "\n"
     ]
    },
    {
     "name": "stdout",
     "output_type": "stream",
     "text": [
      "[1] TRUE\n"
     ]
    },
    {
     "name": "stderr",
     "output_type": "stream",
     "text": [
      "Dividing work into 1 chunks...\n",
      "\n",
      "\n",
      "Total:5 s\n",
      "\n"
     ]
    },
    {
     "name": "stdout",
     "output_type": "stream",
     "text": [
      "[1] TRUE\n"
     ]
    },
    {
     "name": "stderr",
     "output_type": "stream",
     "text": [
      "Dividing work into 1 chunks...\n",
      "\n",
      "\n",
      "Total:5 s\n",
      "\n"
     ]
    },
    {
     "name": "stdout",
     "output_type": "stream",
     "text": [
      "[1] TRUE\n"
     ]
    },
    {
     "name": "stderr",
     "output_type": "stream",
     "text": [
      "Dividing work into 1 chunks...\n",
      "\n",
      "\n",
      "Total:5 s\n",
      "\n"
     ]
    },
    {
     "name": "stdout",
     "output_type": "stream",
     "text": [
      "[1] TRUE\n"
     ]
    },
    {
     "name": "stderr",
     "output_type": "stream",
     "text": [
      "Dividing work into 1 chunks...\n",
      "\n",
      "\n",
      "Total:5 s\n",
      "\n"
     ]
    },
    {
     "name": "stdout",
     "output_type": "stream",
     "text": [
      "[1] TRUE\n"
     ]
    },
    {
     "name": "stderr",
     "output_type": "stream",
     "text": [
      "Dividing work into 1 chunks...\n",
      "\n",
      "\n",
      "Total:5 s\n",
      "\n"
     ]
    },
    {
     "name": "stdout",
     "output_type": "stream",
     "text": [
      "[1] TRUE\n"
     ]
    },
    {
     "name": "stderr",
     "output_type": "stream",
     "text": [
      "Dividing work into 1 chunks...\n",
      "\n",
      "\n",
      "Total:5 s\n",
      "\n"
     ]
    },
    {
     "name": "stdout",
     "output_type": "stream",
     "text": [
      "[1] TRUE\n"
     ]
    },
    {
     "name": "stderr",
     "output_type": "stream",
     "text": [
      "Dividing work into 1 chunks...\n",
      "\n",
      "\n",
      "Total:4 s\n",
      "\n"
     ]
    },
    {
     "name": "stdout",
     "output_type": "stream",
     "text": [
      "[1] TRUE\n"
     ]
    },
    {
     "name": "stderr",
     "output_type": "stream",
     "text": [
      "Dividing work into 1 chunks...\n",
      "\n",
      "\n",
      "Total:5 s\n",
      "\n"
     ]
    },
    {
     "name": "stdout",
     "output_type": "stream",
     "text": [
      "[1] TRUE\n"
     ]
    },
    {
     "name": "stderr",
     "output_type": "stream",
     "text": [
      "Dividing work into 1 chunks...\n",
      "\n",
      "\n",
      "Total:5 s\n",
      "\n"
     ]
    },
    {
     "name": "stdout",
     "output_type": "stream",
     "text": [
      "[1] TRUE\n"
     ]
    },
    {
     "name": "stderr",
     "output_type": "stream",
     "text": [
      "Dividing work into 1 chunks...\n",
      "\n",
      "\n",
      "Total:5 s\n",
      "\n"
     ]
    },
    {
     "name": "stdout",
     "output_type": "stream",
     "text": [
      "[1] TRUE\n"
     ]
    },
    {
     "name": "stderr",
     "output_type": "stream",
     "text": [
      "Dividing work into 1 chunks...\n",
      "\n",
      "\n",
      "Total:5 s\n",
      "\n"
     ]
    },
    {
     "name": "stdout",
     "output_type": "stream",
     "text": [
      "[1] TRUE\n"
     ]
    },
    {
     "name": "stderr",
     "output_type": "stream",
     "text": [
      "Dividing work into 1 chunks...\n",
      "\n",
      "\n",
      "Total:5 s\n",
      "\n"
     ]
    },
    {
     "name": "stdout",
     "output_type": "stream",
     "text": [
      "[1] TRUE\n"
     ]
    },
    {
     "name": "stderr",
     "output_type": "stream",
     "text": [
      "Dividing work into 1 chunks...\n",
      "\n",
      "\n",
      "Total:5 s\n",
      "\n"
     ]
    },
    {
     "name": "stdout",
     "output_type": "stream",
     "text": [
      "[1] TRUE\n"
     ]
    },
    {
     "name": "stderr",
     "output_type": "stream",
     "text": [
      "Dividing work into 1 chunks...\n",
      "\n",
      "\n",
      "Total:5 s\n",
      "\n"
     ]
    },
    {
     "name": "stdout",
     "output_type": "stream",
     "text": [
      "[1] TRUE\n"
     ]
    },
    {
     "name": "stderr",
     "output_type": "stream",
     "text": [
      "Dividing work into 1 chunks...\n",
      "\n",
      "\n",
      "Total:5 s\n",
      "\n"
     ]
    },
    {
     "name": "stdout",
     "output_type": "stream",
     "text": [
      "[1] TRUE\n"
     ]
    },
    {
     "name": "stderr",
     "output_type": "stream",
     "text": [
      "Dividing work into 1 chunks...\n",
      "\n",
      "\n",
      "Total:5 s\n",
      "\n"
     ]
    },
    {
     "name": "stdout",
     "output_type": "stream",
     "text": [
      "[1] TRUE\n"
     ]
    },
    {
     "name": "stderr",
     "output_type": "stream",
     "text": [
      "Dividing work into 1 chunks...\n",
      "\n",
      "\n",
      "Total:5 s\n",
      "\n"
     ]
    }
   ],
   "source": [
    "for (kkk in 1:nrow(list)){ \n",
    "    subset_tmp=list$subset[kkk] # Each cell type\n",
    "    load(list$PATH[kkk])\n",
    "    cumvar = summary(result)$importance[,1:7] %>% as.data.frame() # eigenvalue\n",
    "    cumvar_sum = cumvar[3,7]\n",
    "    \n",
    "   # PC 1-7 data\n",
    "    Matrix=as.data.frame(result$x) %>% select(1:7) %>% t() %>% as.data.frame() \n",
    "    # Metadata\n",
    "    Metadata=name_list_SLE%>%filter(name%in%colnames(Matrix))%>%select(-id)\n",
    "    Matrix=Matrix[,Metadata$name]\n",
    "\n",
    "    Metadata$name=factor(Metadata$name,levels=colnames(Matrix))\n",
    "    Metadata=Metadata[order(Metadata$name),]\n",
    "    Metadata$name=as.character(Metadata$name)\n",
    "\n",
    "    all.equal(colnames(Matrix),Metadata$name) %>% print()\n",
    "    \n",
    "   # variance partition\n",
    "    form = ~ (1|Activity)+PSLmg+(1|Immunosuppressant)+age+(1|gender)\n",
    "    varPart = fitExtractVarPartModel( Matrix, form, Metadata ) %>% as.data.frame()\n",
    "    \n",
    "    # Caluculate  the average value of the explained variance weighted by each PC’s eigenvalue (PC1-7) \n",
    "    varPart_weighed=varPart\n",
    "  for (iii in 1:7){\n",
    "     PC_tmp   = rownames(varPart)[iii]\n",
    "     Prop_raw = cumvar %>% select(all_of(PC_tmp)) %>%.[2,]\n",
    "     Prop_std = Prop_raw/cumvar_sum\n",
    "     varPart_weighed[iii,]=varPart[iii,]*Prop_std\n",
    "   }\n",
    "     colnames(varPart_weighed) = c(\"Activity\",\"Sex\",\"Immunosuppressant\",\"PSL\",\"Age\",\"residual\")\n",
    "     varPart_weighed_sum=apply(varPart_weighed,2,sum) %>% as.data.frame() %>% t() %>% as.data.frame()\n",
    "     varPart_weighed_sum$subset=subset_tmp\n",
    "     if(kkk==1){varPart_weighed_sum2=varPart_weighed_sum}else{varPart_weighed_sum2=rbind(varPart_weighed_sum2,varPart_weighed_sum)}\n",
    "  }\n",
    "\n",
    "Total_sum=varPart_weighed_sum2 %>% select(subset,Activity,PSL,Immunosuppressant,Age,Sex)\n",
    "Total_sum_ordered=Total_sum[order(Total_sum$Activity),]"
   ]
  },
  {
   "cell_type": "code",
   "execution_count": 14,
   "metadata": {
    "scrolled": true
   },
   "outputs": [
    {
     "data": {
      "image/png": "[encoded data removed]",
      "text/plain": [
       "plot without title"
      ]
     },
     "metadata": {
      "image/png": {
       "height": 282,
       "width": 630
      }
     },
     "output_type": "display_data"
    }
   ],
   "source": [
    "Total_sum_ordered$subset = factor(Total_sum_ordered$subset,levels=Total_sum_ordered$subset)\n",
    "Total_sum2 = Total_sum_ordered %>% pivot_longer(col=-subset,names_to=\"parameter\",values_to=\"value\")\n",
    "Total_sum2$parameter = factor(Total_sum2$parameter,levels=rev(unique(Total_sum2$parameter)))\n",
    "levels(Total_sum2$parameter)=list(`Sex`=\"Sex\",`Age`=\"Age\",`Immunosuppressant`=\"Immunosuppressant\",`PSL`=\"PSL\",`Disease activity`=\"Activity\")\n",
    "Total_sum2$subset = factor(Total_sum2$subset,levels=levels(Total_sum_ordered$subset))\n",
    "\n",
    "col2 = rev(pal_npg(\"nrc\")(5))\n",
    "\n",
    "# Figure\n",
    "p2 = ggplot()+\n",
    "    geom_bar(data=Total_sum2, aes(x=subset,y=value,fill=parameter),\n",
    "           stat=\"identity\",position=\"stack\")+\n",
    "    theme_classic()+\n",
    "    scale_fill_manual(values = col2)+\n",
    "    theme(axis.text.x=element_text(colour=\"black\",angle=45,hjust=1,vjust=1,size=16),\n",
    "           axis.text.y=element_text(colour=\"black\",size=16),\n",
    "           axis.title.x=element_blank(),\n",
    "           axis.title.y=element_text(colour=\"black\",size=16),\n",
    "           plot.title=element_blank(),\n",
    "           legend.position=\"right\",\n",
    "           legend.title=element_blank(),\n",
    "           legend.text=element_text(colour=\"black\",size=16))+\n",
    "     scale_x_discrete(labels= label)+\n",
    "     scale_y_continuous(breaks= c(0,0.1,0.2))+\n",
    "    labs(y=\"Variance explained\")\n",
    "\n",
    "options(repr.plot.width=10.5, repr.plot.height=4.7)\n",
    "p2 # Fig 2d"
   ]
  },
  {
   "cell_type": "code",
   "execution_count": 15,
   "metadata": {},
   "outputs": [
    {
     "data": {
      "text/html": [
       "0.0755429911726619"
      ],
      "text/latex": [
       "0.0755429911726619"
      ],
      "text/markdown": [
       "0.0755429911726619"
      ],
      "text/plain": [
       "[1] 0.07554299"
      ]
     },
     "metadata": {},
     "output_type": "display_data"
    },
    {
     "data": {
      "text/html": [
       "0.0431275968622933"
      ],
      "text/latex": [
       "0.0431275968622933"
      ],
      "text/markdown": [
       "0.0431275968622933"
      ],
      "text/plain": [
       "[1] 0.0431276"
      ]
     },
     "metadata": {},
     "output_type": "display_data"
    },
    {
     "data": {
      "text/html": [
       "2.862975171709"
      ],
      "text/latex": [
       "2.862975171709"
      ],
      "text/markdown": [
       "2.862975171709"
      ],
      "text/plain": [
       "[1] 2.862975"
      ]
     },
     "metadata": {},
     "output_type": "display_data"
    }
   ],
   "source": [
    "mean(Total_sum_ordered$Activity)\n",
    "Total_sum_ordered$Tx_total=Total_sum_ordered$PSL + Total_sum_ordered$Immunosuppressant\n",
    "mean(Total_sum_ordered$Tx_total)\n",
    "Total_sum_ordered$ratio=Total_sum_ordered$Activity/Total_sum_ordered$Tx_total\n",
    "mean(Total_sum_ordered$ratio)"
   ]
  },
  {
   "cell_type": "markdown",
   "metadata": {},
   "source": [
    "## Jackknife resampling method\n",
    "## Example: one celltype Naive B"
   ]
  },
  {
   "cell_type": "code",
   "execution_count": 16,
   "metadata": {},
   "outputs": [],
   "source": [
    "LIST=\"tmp_job_list/211128_COI_SLEuniqueandHC_27subsets_AfterCombat_PCres_list.txt\""
   ]
  },
  {
   "cell_type": "code",
   "execution_count": 17,
   "metadata": {
    "scrolled": true
   },
   "outputs": [
    {
     "name": "stdout",
     "output_type": "stream",
     "text": [
      "[1] \"subset_tmp : A01_NaiB\"\n",
      "[1] \"Rdata_path : PCA_res/SLEunique_andHC/AfterCombat/filter10000/tmp_Rdata/211124_COI_SLEunique_andHC_AfterCombat_filter10000_A01_NaiB_PCAres_tmp1.Rdata\"\n",
      "[1] TRUE\n"
     ]
    },
    {
     "name": "stderr",
     "output_type": "stream",
     "text": [
      "Dividing work into 1 chunks...\n",
      "\n",
      "\n",
      "Total:5 s\n",
      "\n"
     ]
    },
    {
     "name": "stdout",
     "output_type": "stream",
     "text": [
      "[1] TRUE\n"
     ]
    },
    {
     "name": "stderr",
     "output_type": "stream",
     "text": [
      "Dividing work into 1 chunks...\n",
      "\n",
      "\n",
      "Total:6 s\n",
      "\n"
     ]
    },
    {
     "name": "stdout",
     "output_type": "stream",
     "text": [
      "[1] TRUE\n"
     ]
    },
    {
     "name": "stderr",
     "output_type": "stream",
     "text": [
      "Dividing work into 1 chunks...\n",
      "\n",
      "\n",
      "Total:6 s\n",
      "\n"
     ]
    },
    {
     "name": "stdout",
     "output_type": "stream",
     "text": [
      "[1] TRUE\n"
     ]
    },
    {
     "name": "stderr",
     "output_type": "stream",
     "text": [
      "Dividing work into 1 chunks...\n",
      "\n",
      "\n",
      "Total:6 s\n",
      "\n"
     ]
    },
    {
     "name": "stdout",
     "output_type": "stream",
     "text": [
      "[1] TRUE\n"
     ]
    },
    {
     "name": "stderr",
     "output_type": "stream",
     "text": [
      "Dividing work into 1 chunks...\n",
      "\n",
      "\n",
      "Total:6 s\n",
      "\n"
     ]
    },
    {
     "name": "stdout",
     "output_type": "stream",
     "text": [
      "[1] TRUE\n"
     ]
    },
    {
     "name": "stderr",
     "output_type": "stream",
     "text": [
      "Dividing work into 1 chunks...\n",
      "\n",
      "\n",
      "Total:6 s\n",
      "\n"
     ]
    },
    {
     "name": "stdout",
     "output_type": "stream",
     "text": [
      "[1] TRUE\n"
     ]
    },
    {
     "name": "stderr",
     "output_type": "stream",
     "text": [
      "Dividing work into 1 chunks...\n",
      "\n",
      "\n",
      "Total:6 s\n",
      "\n"
     ]
    },
    {
     "name": "stdout",
     "output_type": "stream",
     "text": [
      "[1] TRUE\n"
     ]
    },
    {
     "name": "stderr",
     "output_type": "stream",
     "text": [
      "Dividing work into 1 chunks...\n",
      "\n",
      "\n",
      "Total:6 s\n",
      "\n"
     ]
    },
    {
     "name": "stdout",
     "output_type": "stream",
     "text": [
      "[1] TRUE\n"
     ]
    },
    {
     "name": "stderr",
     "output_type": "stream",
     "text": [
      "Dividing work into 1 chunks...\n",
      "\n",
      "\n",
      "Total:6 s\n",
      "\n"
     ]
    },
    {
     "name": "stdout",
     "output_type": "stream",
     "text": [
      "[1] TRUE\n"
     ]
    },
    {
     "name": "stderr",
     "output_type": "stream",
     "text": [
      "Dividing work into 1 chunks...\n",
      "\n",
      "\n",
      "Total:6 s\n",
      "\n"
     ]
    },
    {
     "name": "stdout",
     "output_type": "stream",
     "text": [
      "[1] TRUE\n"
     ]
    },
    {
     "name": "stderr",
     "output_type": "stream",
     "text": [
      "Dividing work into 1 chunks...\n",
      "\n",
      "\n",
      "Total:6 s\n",
      "\n"
     ]
    },
    {
     "name": "stdout",
     "output_type": "stream",
     "text": [
      "[1] TRUE\n"
     ]
    },
    {
     "name": "stderr",
     "output_type": "stream",
     "text": [
      "Dividing work into 1 chunks...\n",
      "\n",
      "\n",
      "Total:6 s\n",
      "\n"
     ]
    },
    {
     "name": "stdout",
     "output_type": "stream",
     "text": [
      "[1] TRUE\n"
     ]
    },
    {
     "name": "stderr",
     "output_type": "stream",
     "text": [
      "Dividing work into 1 chunks...\n",
      "\n",
      "\n",
      "Total:6 s\n",
      "\n"
     ]
    },
    {
     "name": "stdout",
     "output_type": "stream",
     "text": [
      "[1] TRUE\n"
     ]
    },
    {
     "name": "stderr",
     "output_type": "stream",
     "text": [
      "Dividing work into 1 chunks...\n",
      "\n",
      "\n",
      "Total:6 s\n",
      "\n"
     ]
    },
    {
     "name": "stdout",
     "output_type": "stream",
     "text": [
      "[1] TRUE\n"
     ]
    },
    {
     "name": "stderr",
     "output_type": "stream",
     "text": [
      "Dividing work into 1 chunks...\n",
      "\n",
      "\n",
      "Total:6 s\n",
      "\n"
     ]
    },
    {
     "name": "stdout",
     "output_type": "stream",
     "text": [
      "[1] TRUE\n"
     ]
    },
    {
     "name": "stderr",
     "output_type": "stream",
     "text": [
      "Dividing work into 1 chunks...\n",
      "\n",
      "\n",
      "Total:6 s\n",
      "\n"
     ]
    },
    {
     "name": "stdout",
     "output_type": "stream",
     "text": [
      "[1] TRUE\n"
     ]
    },
    {
     "name": "stderr",
     "output_type": "stream",
     "text": [
      "Dividing work into 1 chunks...\n",
      "\n",
      "\n",
      "Total:6 s\n",
      "\n"
     ]
    },
    {
     "name": "stdout",
     "output_type": "stream",
     "text": [
      "[1] TRUE\n"
     ]
    },
    {
     "name": "stderr",
     "output_type": "stream",
     "text": [
      "Dividing work into 1 chunks...\n",
      "\n",
      "\n",
      "Total:6 s\n",
      "\n"
     ]
    },
    {
     "name": "stdout",
     "output_type": "stream",
     "text": [
      "[1] TRUE\n"
     ]
    },
    {
     "name": "stderr",
     "output_type": "stream",
     "text": [
      "Dividing work into 1 chunks...\n",
      "\n",
      "\n",
      "Total:6 s\n",
      "\n"
     ]
    },
    {
     "name": "stdout",
     "output_type": "stream",
     "text": [
      "[1] TRUE\n"
     ]
    },
    {
     "name": "stderr",
     "output_type": "stream",
     "text": [
      "Dividing work into 1 chunks...\n",
      "\n",
      "\n",
      "Total:6 s\n",
      "\n"
     ]
    },
    {
     "name": "stdout",
     "output_type": "stream",
     "text": [
      "[1] TRUE\n"
     ]
    },
    {
     "name": "stderr",
     "output_type": "stream",
     "text": [
      "Dividing work into 1 chunks...\n",
      "\n",
      "\n",
      "Total:6 s\n",
      "\n"
     ]
    },
    {
     "name": "stdout",
     "output_type": "stream",
     "text": [
      "[1] TRUE\n"
     ]
    },
    {
     "name": "stderr",
     "output_type": "stream",
     "text": [
      "Dividing work into 1 chunks...\n",
      "\n",
      "\n",
      "Total:6 s\n",
      "\n"
     ]
    },
    {
     "name": "stdout",
     "output_type": "stream",
     "text": [
      "[1] TRUE\n"
     ]
    },
    {
     "name": "stderr",
     "output_type": "stream",
     "text": [
      "Dividing work into 1 chunks...\n",
      "\n",
      "\n",
      "Total:6 s\n",
      "\n"
     ]
    },
    {
     "name": "stdout",
     "output_type": "stream",
     "text": [
      "[1] TRUE\n"
     ]
    },
    {
     "name": "stderr",
     "output_type": "stream",
     "text": [
      "Dividing work into 1 chunks...\n",
      "\n",
      "\n",
      "Total:5 s\n",
      "\n"
     ]
    },
    {
     "name": "stdout",
     "output_type": "stream",
     "text": [
      "[1] TRUE\n"
     ]
    },
    {
     "name": "stderr",
     "output_type": "stream",
     "text": [
      "Dividing work into 1 chunks...\n",
      "\n",
      "\n",
      "Total:6 s\n",
      "\n"
     ]
    },
    {
     "name": "stdout",
     "output_type": "stream",
     "text": [
      "[1] TRUE\n"
     ]
    },
    {
     "name": "stderr",
     "output_type": "stream",
     "text": [
      "Dividing work into 1 chunks...\n",
      "\n",
      "\n",
      "Total:6 s\n",
      "\n"
     ]
    },
    {
     "name": "stdout",
     "output_type": "stream",
     "text": [
      "[1] TRUE\n"
     ]
    },
    {
     "name": "stderr",
     "output_type": "stream",
     "text": [
      "Dividing work into 1 chunks...\n",
      "\n",
      "\n",
      "Total:6 s\n",
      "\n"
     ]
    },
    {
     "name": "stdout",
     "output_type": "stream",
     "text": [
      "[1] TRUE\n"
     ]
    },
    {
     "name": "stderr",
     "output_type": "stream",
     "text": [
      "Dividing work into 1 chunks...\n",
      "\n",
      "\n",
      "Total:6 s\n",
      "\n"
     ]
    },
    {
     "name": "stdout",
     "output_type": "stream",
     "text": [
      "[1] TRUE\n"
     ]
    },
    {
     "name": "stderr",
     "output_type": "stream",
     "text": [
      "Dividing work into 1 chunks...\n",
      "\n",
      "\n",
      "Total:6 s\n",
      "\n"
     ]
    },
    {
     "name": "stdout",
     "output_type": "stream",
     "text": [
      "[1] TRUE\n"
     ]
    },
    {
     "name": "stderr",
     "output_type": "stream",
     "text": [
      "Dividing work into 1 chunks...\n",
      "\n",
      "\n",
      "Total:6 s\n",
      "\n"
     ]
    },
    {
     "name": "stdout",
     "output_type": "stream",
     "text": [
      "[1] TRUE\n"
     ]
    },
    {
     "name": "stderr",
     "output_type": "stream",
     "text": [
      "Dividing work into 1 chunks...\n",
      "\n",
      "\n",
      "Total:6 s\n",
      "\n"
     ]
    },
    {
     "name": "stdout",
     "output_type": "stream",
     "text": [
      "[1] TRUE\n"
     ]
    },
    {
     "name": "stderr",
     "output_type": "stream",
     "text": [
      "Dividing work into 1 chunks...\n",
      "\n",
      "\n",
      "Total:6 s\n",
      "\n"
     ]
    },
    {
     "name": "stdout",
     "output_type": "stream",
     "text": [
      "[1] TRUE\n"
     ]
    },
    {
     "name": "stderr",
     "output_type": "stream",
     "text": [
      "Dividing work into 1 chunks...\n",
      "\n",
      "\n",
      "Total:6 s\n",
      "\n"
     ]
    },
    {
     "name": "stdout",
     "output_type": "stream",
     "text": [
      "[1] TRUE\n"
     ]
    },
    {
     "name": "stderr",
     "output_type": "stream",
     "text": [
      "Dividing work into 1 chunks...\n",
      "\n",
      "\n",
      "Total:6 s\n",
      "\n"
     ]
    },
    {
     "name": "stdout",
     "output_type": "stream",
     "text": [
      "[1] TRUE\n"
     ]
    },
    {
     "name": "stderr",
     "output_type": "stream",
     "text": [
      "Dividing work into 1 chunks...\n",
      "\n",
      "\n",
      "Total:6 s\n",
      "\n"
     ]
    },
    {
     "name": "stdout",
     "output_type": "stream",
     "text": [
      "[1] TRUE\n"
     ]
    },
    {
     "name": "stderr",
     "output_type": "stream",
     "text": [
      "Dividing work into 1 chunks...\n",
      "\n",
      "\n",
      "Total:6 s\n",
      "\n"
     ]
    },
    {
     "name": "stdout",
     "output_type": "stream",
     "text": [
      "[1] TRUE\n"
     ]
    },
    {
     "name": "stderr",
     "output_type": "stream",
     "text": [
      "Dividing work into 1 chunks...\n",
      "\n",
      "\n",
      "Total:6 s\n",
      "\n"
     ]
    },
    {
     "name": "stdout",
     "output_type": "stream",
     "text": [
      "[1] TRUE\n"
     ]
    },
    {
     "name": "stderr",
     "output_type": "stream",
     "text": [
      "Dividing work into 1 chunks...\n",
      "\n",
      "\n",
      "Total:6 s\n",
      "\n"
     ]
    },
    {
     "name": "stdout",
     "output_type": "stream",
     "text": [
      "[1] TRUE\n"
     ]
    },
    {
     "name": "stderr",
     "output_type": "stream",
     "text": [
      "Dividing work into 1 chunks...\n",
      "\n",
      "\n",
      "Total:6 s\n",
      "\n"
     ]
    },
    {
     "name": "stdout",
     "output_type": "stream",
     "text": [
      "[1] TRUE\n"
     ]
    },
    {
     "name": "stderr",
     "output_type": "stream",
     "text": [
      "Dividing work into 1 chunks...\n",
      "\n",
      "\n",
      "Total:6 s\n",
      "\n"
     ]
    },
    {
     "name": "stdout",
     "output_type": "stream",
     "text": [
      "[1] TRUE\n"
     ]
    },
    {
     "name": "stderr",
     "output_type": "stream",
     "text": [
      "Dividing work into 1 chunks...\n",
      "\n",
      "\n",
      "Total:6 s\n",
      "\n"
     ]
    },
    {
     "name": "stdout",
     "output_type": "stream",
     "text": [
      "[1] TRUE\n"
     ]
    },
    {
     "name": "stderr",
     "output_type": "stream",
     "text": [
      "Dividing work into 1 chunks...\n",
      "\n",
      "\n",
      "Total:6 s\n",
      "\n"
     ]
    },
    {
     "name": "stdout",
     "output_type": "stream",
     "text": [
      "[1] TRUE\n"
     ]
    },
    {
     "name": "stderr",
     "output_type": "stream",
     "text": [
      "Dividing work into 1 chunks...\n",
      "\n",
      "\n",
      "Total:6 s\n",
      "\n"
     ]
    },
    {
     "name": "stdout",
     "output_type": "stream",
     "text": [
      "[1] TRUE\n"
     ]
    },
    {
     "name": "stderr",
     "output_type": "stream",
     "text": [
      "Dividing work into 1 chunks...\n",
      "\n",
      "\n",
      "Total:6 s\n",
      "\n"
     ]
    },
    {
     "name": "stdout",
     "output_type": "stream",
     "text": [
      "[1] TRUE\n"
     ]
    },
    {
     "name": "stderr",
     "output_type": "stream",
     "text": [
      "Dividing work into 1 chunks...\n",
      "\n",
      "\n",
      "Total:6 s\n",
      "\n"
     ]
    },
    {
     "name": "stdout",
     "output_type": "stream",
     "text": [
      "[1] TRUE\n"
     ]
    },
    {
     "name": "stderr",
     "output_type": "stream",
     "text": [
      "Dividing work into 1 chunks...\n",
      "\n",
      "\n",
      "Total:6 s\n",
      "\n"
     ]
    },
    {
     "name": "stdout",
     "output_type": "stream",
     "text": [
      "[1] TRUE\n"
     ]
    },
    {
     "name": "stderr",
     "output_type": "stream",
     "text": [
      "Dividing work into 1 chunks...\n",
      "\n",
      "\n",
      "Total:6 s\n",
      "\n"
     ]
    },
    {
     "name": "stdout",
     "output_type": "stream",
     "text": [
      "[1] TRUE\n"
     ]
    },
    {
     "name": "stderr",
     "output_type": "stream",
     "text": [
      "Dividing work into 1 chunks...\n",
      "\n",
      "\n",
      "Total:6 s\n",
      "\n"
     ]
    },
    {
     "name": "stdout",
     "output_type": "stream",
     "text": [
      "[1] TRUE\n"
     ]
    },
    {
     "name": "stderr",
     "output_type": "stream",
     "text": [
      "Dividing work into 1 chunks...\n",
      "\n",
      "\n",
      "Total:6 s\n",
      "\n"
     ]
    },
    {
     "name": "stdout",
     "output_type": "stream",
     "text": [
      "[1] TRUE\n"
     ]
    },
    {
     "name": "stderr",
     "output_type": "stream",
     "text": [
      "Dividing work into 1 chunks...\n",
      "\n",
      "\n",
      "Total:6 s\n",
      "\n"
     ]
    },
    {
     "name": "stdout",
     "output_type": "stream",
     "text": [
      "[1] TRUE\n"
     ]
    },
    {
     "name": "stderr",
     "output_type": "stream",
     "text": [
      "Dividing work into 1 chunks...\n",
      "\n",
      "\n",
      "Total:6 s\n",
      "\n"
     ]
    },
    {
     "name": "stdout",
     "output_type": "stream",
     "text": [
      "[1] TRUE\n"
     ]
    },
    {
     "name": "stderr",
     "output_type": "stream",
     "text": [
      "Dividing work into 1 chunks...\n",
      "\n",
      "\n",
      "Total:6 s\n",
      "\n"
     ]
    },
    {
     "name": "stdout",
     "output_type": "stream",
     "text": [
      "[1] TRUE\n"
     ]
    },
    {
     "name": "stderr",
     "output_type": "stream",
     "text": [
      "Dividing work into 1 chunks...\n",
      "\n",
      "\n",
      "Total:6 s\n",
      "\n"
     ]
    },
    {
     "name": "stdout",
     "output_type": "stream",
     "text": [
      "[1] TRUE\n"
     ]
    },
    {
     "name": "stderr",
     "output_type": "stream",
     "text": [
      "Dividing work into 1 chunks...\n",
      "\n",
      "\n",
      "Total:6 s\n",
      "\n"
     ]
    },
    {
     "name": "stdout",
     "output_type": "stream",
     "text": [
      "[1] TRUE\n"
     ]
    },
    {
     "name": "stderr",
     "output_type": "stream",
     "text": [
      "Dividing work into 1 chunks...\n",
      "\n",
      "\n",
      "Total:6 s\n",
      "\n"
     ]
    },
    {
     "name": "stdout",
     "output_type": "stream",
     "text": [
      "[1] TRUE\n"
     ]
    },
    {
     "name": "stderr",
     "output_type": "stream",
     "text": [
      "Dividing work into 1 chunks...\n",
      "\n",
      "\n",
      "Total:6 s\n",
      "\n"
     ]
    },
    {
     "name": "stdout",
     "output_type": "stream",
     "text": [
      "[1] TRUE\n"
     ]
    },
    {
     "name": "stderr",
     "output_type": "stream",
     "text": [
      "Dividing work into 1 chunks...\n",
      "\n",
      "\n",
      "Total:6 s\n",
      "\n"
     ]
    },
    {
     "name": "stdout",
     "output_type": "stream",
     "text": [
      "[1] TRUE\n"
     ]
    },
    {
     "name": "stderr",
     "output_type": "stream",
     "text": [
      "Dividing work into 1 chunks...\n",
      "\n",
      "\n",
      "Total:6 s\n",
      "\n"
     ]
    },
    {
     "name": "stdout",
     "output_type": "stream",
     "text": [
      "[1] TRUE\n"
     ]
    },
    {
     "name": "stderr",
     "output_type": "stream",
     "text": [
      "Dividing work into 1 chunks...\n",
      "\n",
      "\n",
      "Total:6 s\n",
      "\n"
     ]
    },
    {
     "name": "stdout",
     "output_type": "stream",
     "text": [
      "[1] TRUE\n"
     ]
    },
    {
     "name": "stderr",
     "output_type": "stream",
     "text": [
      "Dividing work into 1 chunks...\n",
      "\n",
      "\n",
      "Total:5 s\n",
      "\n"
     ]
    },
    {
     "name": "stdout",
     "output_type": "stream",
     "text": [
      "[1] TRUE\n"
     ]
    },
    {
     "name": "stderr",
     "output_type": "stream",
     "text": [
      "Dividing work into 1 chunks...\n",
      "\n",
      "\n",
      "Total:6 s\n",
      "\n"
     ]
    },
    {
     "name": "stdout",
     "output_type": "stream",
     "text": [
      "[1] TRUE\n"
     ]
    },
    {
     "name": "stderr",
     "output_type": "stream",
     "text": [
      "Dividing work into 1 chunks...\n",
      "\n",
      "\n",
      "Total:6 s\n",
      "\n"
     ]
    },
    {
     "name": "stdout",
     "output_type": "stream",
     "text": [
      "[1] TRUE\n"
     ]
    },
    {
     "name": "stderr",
     "output_type": "stream",
     "text": [
      "Dividing work into 1 chunks...\n",
      "\n",
      "\n",
      "Total:6 s\n",
      "\n"
     ]
    },
    {
     "name": "stdout",
     "output_type": "stream",
     "text": [
      "[1] TRUE\n"
     ]
    },
    {
     "name": "stderr",
     "output_type": "stream",
     "text": [
      "Dividing work into 1 chunks...\n",
      "\n",
      "\n",
      "Total:6 s\n",
      "\n"
     ]
    },
    {
     "name": "stdout",
     "output_type": "stream",
     "text": [
      "[1] TRUE\n"
     ]
    },
    {
     "name": "stderr",
     "output_type": "stream",
     "text": [
      "Dividing work into 1 chunks...\n",
      "\n",
      "\n",
      "Total:6 s\n",
      "\n"
     ]
    },
    {
     "name": "stdout",
     "output_type": "stream",
     "text": [
      "[1] TRUE\n"
     ]
    },
    {
     "name": "stderr",
     "output_type": "stream",
     "text": [
      "Dividing work into 1 chunks...\n",
      "\n",
      "\n",
      "Total:6 s\n",
      "\n"
     ]
    },
    {
     "name": "stdout",
     "output_type": "stream",
     "text": [
      "[1] TRUE\n"
     ]
    },
    {
     "name": "stderr",
     "output_type": "stream",
     "text": [
      "Dividing work into 1 chunks...\n",
      "\n",
      "\n",
      "Total:6 s\n",
      "\n"
     ]
    },
    {
     "name": "stdout",
     "output_type": "stream",
     "text": [
      "[1] TRUE\n"
     ]
    },
    {
     "name": "stderr",
     "output_type": "stream",
     "text": [
      "Dividing work into 1 chunks...\n",
      "\n",
      "\n",
      "Total:6 s\n",
      "\n"
     ]
    },
    {
     "name": "stdout",
     "output_type": "stream",
     "text": [
      "[1] TRUE\n"
     ]
    },
    {
     "name": "stderr",
     "output_type": "stream",
     "text": [
      "Dividing work into 1 chunks...\n",
      "\n",
      "\n",
      "Total:6 s\n",
      "\n"
     ]
    },
    {
     "name": "stdout",
     "output_type": "stream",
     "text": [
      "[1] TRUE\n"
     ]
    },
    {
     "name": "stderr",
     "output_type": "stream",
     "text": [
      "Dividing work into 1 chunks...\n",
      "\n",
      "\n",
      "Total:5 s\n",
      "\n"
     ]
    },
    {
     "name": "stdout",
     "output_type": "stream",
     "text": [
      "[1] TRUE\n"
     ]
    },
    {
     "name": "stderr",
     "output_type": "stream",
     "text": [
      "Dividing work into 1 chunks...\n",
      "\n",
      "\n",
      "Total:6 s\n",
      "\n"
     ]
    },
    {
     "name": "stdout",
     "output_type": "stream",
     "text": [
      "[1] TRUE\n"
     ]
    },
    {
     "name": "stderr",
     "output_type": "stream",
     "text": [
      "Dividing work into 1 chunks...\n",
      "\n",
      "\n",
      "Total:6 s\n",
      "\n"
     ]
    },
    {
     "name": "stdout",
     "output_type": "stream",
     "text": [
      "[1] TRUE\n"
     ]
    },
    {
     "name": "stderr",
     "output_type": "stream",
     "text": [
      "Dividing work into 1 chunks...\n",
      "\n",
      "\n",
      "Total:6 s\n",
      "\n"
     ]
    },
    {
     "name": "stdout",
     "output_type": "stream",
     "text": [
      "[1] TRUE\n"
     ]
    },
    {
     "name": "stderr",
     "output_type": "stream",
     "text": [
      "Dividing work into 1 chunks...\n",
      "\n",
      "\n",
      "Total:6 s\n",
      "\n"
     ]
    },
    {
     "name": "stdout",
     "output_type": "stream",
     "text": [
      "[1] TRUE\n"
     ]
    },
    {
     "name": "stderr",
     "output_type": "stream",
     "text": [
      "Dividing work into 1 chunks...\n",
      "\n",
      "\n",
      "Total:6 s\n",
      "\n"
     ]
    },
    {
     "name": "stdout",
     "output_type": "stream",
     "text": [
      "[1] TRUE\n"
     ]
    },
    {
     "name": "stderr",
     "output_type": "stream",
     "text": [
      "Dividing work into 1 chunks...\n",
      "\n",
      "\n",
      "Total:6 s\n",
      "\n"
     ]
    },
    {
     "name": "stdout",
     "output_type": "stream",
     "text": [
      "[1] TRUE\n"
     ]
    },
    {
     "name": "stderr",
     "output_type": "stream",
     "text": [
      "Dividing work into 1 chunks...\n",
      "\n",
      "\n",
      "Total:6 s\n",
      "\n"
     ]
    },
    {
     "name": "stdout",
     "output_type": "stream",
     "text": [
      "[1] TRUE\n"
     ]
    },
    {
     "name": "stderr",
     "output_type": "stream",
     "text": [
      "Dividing work into 1 chunks...\n",
      "\n",
      "\n",
      "Total:6 s\n",
      "\n"
     ]
    },
    {
     "name": "stdout",
     "output_type": "stream",
     "text": [
      "[1] TRUE\n"
     ]
    },
    {
     "name": "stderr",
     "output_type": "stream",
     "text": [
      "Dividing work into 1 chunks...\n",
      "\n",
      "\n",
      "Total:6 s\n",
      "\n"
     ]
    },
    {
     "name": "stdout",
     "output_type": "stream",
     "text": [
      "[1] TRUE\n"
     ]
    },
    {
     "name": "stderr",
     "output_type": "stream",
     "text": [
      "Dividing work into 1 chunks...\n",
      "\n",
      "\n",
      "Total:6 s\n",
      "\n"
     ]
    },
    {
     "name": "stdout",
     "output_type": "stream",
     "text": [
      "[1] TRUE\n"
     ]
    },
    {
     "name": "stderr",
     "output_type": "stream",
     "text": [
      "Dividing work into 1 chunks...\n",
      "\n",
      "\n",
      "Total:6 s\n",
      "\n"
     ]
    },
    {
     "name": "stdout",
     "output_type": "stream",
     "text": [
      "[1] TRUE\n"
     ]
    },
    {
     "name": "stderr",
     "output_type": "stream",
     "text": [
      "Dividing work into 1 chunks...\n",
      "\n",
      "\n",
      "Total:6 s\n",
      "\n"
     ]
    },
    {
     "name": "stdout",
     "output_type": "stream",
     "text": [
      "[1] TRUE\n"
     ]
    },
    {
     "name": "stderr",
     "output_type": "stream",
     "text": [
      "Dividing work into 1 chunks...\n",
      "\n",
      "\n",
      "Total:6 s\n",
      "\n"
     ]
    },
    {
     "name": "stdout",
     "output_type": "stream",
     "text": [
      "[1] TRUE\n"
     ]
    },
    {
     "name": "stderr",
     "output_type": "stream",
     "text": [
      "Dividing work into 1 chunks...\n",
      "\n",
      "\n",
      "Total:6 s\n",
      "\n"
     ]
    },
    {
     "name": "stdout",
     "output_type": "stream",
     "text": [
      "[1] TRUE\n"
     ]
    },
    {
     "name": "stderr",
     "output_type": "stream",
     "text": [
      "Dividing work into 1 chunks...\n",
      "\n",
      "\n",
      "Total:6 s\n",
      "\n"
     ]
    },
    {
     "name": "stdout",
     "output_type": "stream",
     "text": [
      "[1] TRUE\n"
     ]
    },
    {
     "name": "stderr",
     "output_type": "stream",
     "text": [
      "Dividing work into 1 chunks...\n",
      "\n",
      "\n",
      "Total:6 s\n",
      "\n"
     ]
    },
    {
     "name": "stdout",
     "output_type": "stream",
     "text": [
      "[1] TRUE\n"
     ]
    },
    {
     "name": "stderr",
     "output_type": "stream",
     "text": [
      "Dividing work into 1 chunks...\n",
      "\n",
      "\n",
      "Total:6 s\n",
      "\n"
     ]
    },
    {
     "name": "stdout",
     "output_type": "stream",
     "text": [
      "[1] TRUE\n"
     ]
    },
    {
     "name": "stderr",
     "output_type": "stream",
     "text": [
      "Dividing work into 1 chunks...\n",
      "\n",
      "\n",
      "Total:6 s\n",
      "\n"
     ]
    },
    {
     "name": "stdout",
     "output_type": "stream",
     "text": [
      "[1] TRUE\n"
     ]
    },
    {
     "name": "stderr",
     "output_type": "stream",
     "text": [
      "Dividing work into 1 chunks...\n",
      "\n",
      "\n",
      "Total:6 s\n",
      "\n"
     ]
    },
    {
     "name": "stdout",
     "output_type": "stream",
     "text": [
      "[1] TRUE\n"
     ]
    },
    {
     "name": "stderr",
     "output_type": "stream",
     "text": [
      "Dividing work into 1 chunks...\n",
      "\n",
      "\n",
      "Total:6 s\n",
      "\n"
     ]
    },
    {
     "name": "stdout",
     "output_type": "stream",
     "text": [
      "[1] TRUE\n"
     ]
    },
    {
     "name": "stderr",
     "output_type": "stream",
     "text": [
      "Dividing work into 1 chunks...\n",
      "\n",
      "\n",
      "Total:6 s\n",
      "\n"
     ]
    },
    {
     "name": "stdout",
     "output_type": "stream",
     "text": [
      "[1] TRUE\n"
     ]
    },
    {
     "name": "stderr",
     "output_type": "stream",
     "text": [
      "Dividing work into 1 chunks...\n",
      "\n",
      "\n",
      "Total:6 s\n",
      "\n"
     ]
    },
    {
     "name": "stdout",
     "output_type": "stream",
     "text": [
      "[1] TRUE\n"
     ]
    },
    {
     "name": "stderr",
     "output_type": "stream",
     "text": [
      "Dividing work into 1 chunks...\n",
      "\n",
      "\n",
      "Total:6 s\n",
      "\n"
     ]
    },
    {
     "name": "stdout",
     "output_type": "stream",
     "text": [
      "[1] TRUE\n"
     ]
    },
    {
     "name": "stderr",
     "output_type": "stream",
     "text": [
      "Dividing work into 1 chunks...\n",
      "\n",
      "\n",
      "Total:6 s\n",
      "\n"
     ]
    },
    {
     "name": "stdout",
     "output_type": "stream",
     "text": [
      "[1] TRUE\n"
     ]
    },
    {
     "name": "stderr",
     "output_type": "stream",
     "text": [
      "Dividing work into 1 chunks...\n",
      "\n",
      "\n",
      "Total:6 s\n",
      "\n"
     ]
    },
    {
     "name": "stdout",
     "output_type": "stream",
     "text": [
      "[1] TRUE\n"
     ]
    },
    {
     "name": "stderr",
     "output_type": "stream",
     "text": [
      "Dividing work into 1 chunks...\n",
      "\n",
      "\n",
      "Total:6 s\n",
      "\n"
     ]
    },
    {
     "name": "stdout",
     "output_type": "stream",
     "text": [
      "[1] TRUE\n"
     ]
    },
    {
     "name": "stderr",
     "output_type": "stream",
     "text": [
      "Dividing work into 1 chunks...\n",
      "\n",
      "\n",
      "Total:6 s\n",
      "\n"
     ]
    },
    {
     "name": "stdout",
     "output_type": "stream",
     "text": [
      "[1] TRUE\n"
     ]
    },
    {
     "name": "stderr",
     "output_type": "stream",
     "text": [
      "Dividing work into 1 chunks...\n",
      "\n",
      "\n",
      "Total:6 s\n",
      "\n"
     ]
    },
    {
     "name": "stdout",
     "output_type": "stream",
     "text": [
      "[1] TRUE\n"
     ]
    },
    {
     "name": "stderr",
     "output_type": "stream",
     "text": [
      "Dividing work into 1 chunks...\n",
      "\n",
      "\n",
      "Total:6 s\n",
      "\n"
     ]
    },
    {
     "name": "stdout",
     "output_type": "stream",
     "text": [
      "[1] TRUE\n"
     ]
    },
    {
     "name": "stderr",
     "output_type": "stream",
     "text": [
      "Dividing work into 1 chunks...\n",
      "\n",
      "\n",
      "Total:6 s\n",
      "\n"
     ]
    },
    {
     "name": "stdout",
     "output_type": "stream",
     "text": [
      "[1] TRUE\n"
     ]
    },
    {
     "name": "stderr",
     "output_type": "stream",
     "text": [
      "Dividing work into 1 chunks...\n",
      "\n",
      "\n",
      "Total:6 s\n",
      "\n"
     ]
    },
    {
     "name": "stdout",
     "output_type": "stream",
     "text": [
      "[1] TRUE\n"
     ]
    },
    {
     "name": "stderr",
     "output_type": "stream",
     "text": [
      "Dividing work into 1 chunks...\n",
      "\n",
      "\n",
      "Total:6 s\n",
      "\n"
     ]
    },
    {
     "name": "stdout",
     "output_type": "stream",
     "text": [
      "[1] TRUE\n"
     ]
    },
    {
     "name": "stderr",
     "output_type": "stream",
     "text": [
      "Dividing work into 1 chunks...\n",
      "\n",
      "\n",
      "Total:6 s\n",
      "\n"
     ]
    },
    {
     "name": "stdout",
     "output_type": "stream",
     "text": [
      "[1] TRUE\n"
     ]
    },
    {
     "name": "stderr",
     "output_type": "stream",
     "text": [
      "Dividing work into 1 chunks...\n",
      "\n",
      "\n",
      "Total:6 s\n",
      "\n"
     ]
    },
    {
     "name": "stdout",
     "output_type": "stream",
     "text": [
      "[1] TRUE\n"
     ]
    },
    {
     "name": "stderr",
     "output_type": "stream",
     "text": [
      "Dividing work into 1 chunks...\n",
      "\n",
      "\n",
      "Total:6 s\n",
      "\n"
     ]
    },
    {
     "name": "stdout",
     "output_type": "stream",
     "text": [
      "[1] TRUE\n"
     ]
    },
    {
     "name": "stderr",
     "output_type": "stream",
     "text": [
      "Dividing work into 1 chunks...\n",
      "\n",
      "\n",
      "Total:6 s\n",
      "\n"
     ]
    },
    {
     "name": "stdout",
     "output_type": "stream",
     "text": [
      "[1] TRUE\n"
     ]
    },
    {
     "name": "stderr",
     "output_type": "stream",
     "text": [
      "Dividing work into 1 chunks...\n",
      "\n",
      "\n",
      "Total:6 s\n",
      "\n"
     ]
    },
    {
     "name": "stdout",
     "output_type": "stream",
     "text": [
      "[1] TRUE\n"
     ]
    },
    {
     "name": "stderr",
     "output_type": "stream",
     "text": [
      "Dividing work into 1 chunks...\n",
      "\n",
      "\n",
      "Total:6 s\n",
      "\n"
     ]
    },
    {
     "name": "stdout",
     "output_type": "stream",
     "text": [
      "[1] TRUE\n"
     ]
    },
    {
     "name": "stderr",
     "output_type": "stream",
     "text": [
      "Dividing work into 1 chunks...\n",
      "\n",
      "\n",
      "Total:6 s\n",
      "\n"
     ]
    },
    {
     "name": "stdout",
     "output_type": "stream",
     "text": [
      "[1] TRUE\n"
     ]
    },
    {
     "name": "stderr",
     "output_type": "stream",
     "text": [
      "Dividing work into 1 chunks...\n",
      "\n",
      "\n",
      "Total:6 s\n",
      "\n"
     ]
    },
    {
     "name": "stdout",
     "output_type": "stream",
     "text": [
      "[1] TRUE\n"
     ]
    },
    {
     "name": "stderr",
     "output_type": "stream",
     "text": [
      "Dividing work into 1 chunks...\n",
      "\n",
      "\n",
      "Total:6 s\n",
      "\n"
     ]
    },
    {
     "name": "stdout",
     "output_type": "stream",
     "text": [
      "[1] TRUE\n"
     ]
    },
    {
     "name": "stderr",
     "output_type": "stream",
     "text": [
      "Dividing work into 1 chunks...\n",
      "\n",
      "\n",
      "Total:6 s\n",
      "\n"
     ]
    },
    {
     "name": "stdout",
     "output_type": "stream",
     "text": [
      "[1] TRUE\n"
     ]
    },
    {
     "name": "stderr",
     "output_type": "stream",
     "text": [
      "Dividing work into 1 chunks...\n",
      "\n",
      "\n",
      "Total:6 s\n",
      "\n"
     ]
    },
    {
     "name": "stdout",
     "output_type": "stream",
     "text": [
      "[1] TRUE\n"
     ]
    },
    {
     "name": "stderr",
     "output_type": "stream",
     "text": [
      "Dividing work into 1 chunks...\n",
      "\n",
      "\n",
      "Total:6 s\n",
      "\n"
     ]
    },
    {
     "name": "stdout",
     "output_type": "stream",
     "text": [
      "[1] TRUE\n"
     ]
    },
    {
     "name": "stderr",
     "output_type": "stream",
     "text": [
      "Dividing work into 1 chunks...\n",
      "\n",
      "\n",
      "Total:6 s\n",
      "\n"
     ]
    },
    {
     "name": "stdout",
     "output_type": "stream",
     "text": [
      "[1] TRUE\n"
     ]
    },
    {
     "name": "stderr",
     "output_type": "stream",
     "text": [
      "Dividing work into 1 chunks...\n",
      "\n",
      "\n",
      "Total:6 s\n",
      "\n"
     ]
    },
    {
     "name": "stdout",
     "output_type": "stream",
     "text": [
      "[1] TRUE\n"
     ]
    },
    {
     "name": "stderr",
     "output_type": "stream",
     "text": [
      "Dividing work into 1 chunks...\n",
      "\n",
      "\n",
      "Total:6 s\n",
      "\n"
     ]
    },
    {
     "name": "stdout",
     "output_type": "stream",
     "text": [
      "[1] TRUE\n"
     ]
    },
    {
     "name": "stderr",
     "output_type": "stream",
     "text": [
      "Dividing work into 1 chunks...\n",
      "\n",
      "\n",
      "Total:6 s\n",
      "\n"
     ]
    },
    {
     "name": "stdout",
     "output_type": "stream",
     "text": [
      "[1] TRUE\n"
     ]
    },
    {
     "name": "stderr",
     "output_type": "stream",
     "text": [
      "Dividing work into 1 chunks...\n",
      "\n",
      "\n",
      "Total:6 s\n",
      "\n"
     ]
    },
    {
     "name": "stdout",
     "output_type": "stream",
     "text": [
      "[1] TRUE\n"
     ]
    },
    {
     "name": "stderr",
     "output_type": "stream",
     "text": [
      "Dividing work into 1 chunks...\n",
      "\n",
      "\n",
      "Total:6 s\n",
      "\n"
     ]
    },
    {
     "name": "stdout",
     "output_type": "stream",
     "text": [
      "[1] TRUE\n"
     ]
    },
    {
     "name": "stderr",
     "output_type": "stream",
     "text": [
      "Dividing work into 1 chunks...\n",
      "\n",
      "\n",
      "Total:6 s\n",
      "\n"
     ]
    },
    {
     "name": "stdout",
     "output_type": "stream",
     "text": [
      "[1] TRUE\n"
     ]
    },
    {
     "name": "stderr",
     "output_type": "stream",
     "text": [
      "Dividing work into 1 chunks...\n",
      "\n",
      "\n",
      "Total:6 s\n",
      "\n"
     ]
    },
    {
     "name": "stdout",
     "output_type": "stream",
     "text": [
      "[1] TRUE\n"
     ]
    },
    {
     "name": "stderr",
     "output_type": "stream",
     "text": [
      "Dividing work into 1 chunks...\n",
      "\n",
      "\n",
      "Total:6 s\n",
      "\n"
     ]
    },
    {
     "name": "stdout",
     "output_type": "stream",
     "text": [
      "[1] TRUE\n"
     ]
    },
    {
     "name": "stderr",
     "output_type": "stream",
     "text": [
      "Dividing work into 1 chunks...\n",
      "\n",
      "\n",
      "Total:6 s\n",
      "\n"
     ]
    },
    {
     "name": "stdout",
     "output_type": "stream",
     "text": [
      "[1] TRUE\n"
     ]
    },
    {
     "name": "stderr",
     "output_type": "stream",
     "text": [
      "Dividing work into 1 chunks...\n",
      "\n",
      "\n",
      "Total:6 s\n",
      "\n"
     ]
    },
    {
     "name": "stdout",
     "output_type": "stream",
     "text": [
      "[1] TRUE\n"
     ]
    },
    {
     "name": "stderr",
     "output_type": "stream",
     "text": [
      "Dividing work into 1 chunks...\n",
      "\n",
      "\n",
      "Total:6 s\n",
      "\n"
     ]
    },
    {
     "name": "stdout",
     "output_type": "stream",
     "text": [
      "[1] TRUE\n"
     ]
    },
    {
     "name": "stderr",
     "output_type": "stream",
     "text": [
      "Dividing work into 1 chunks...\n",
      "\n",
      "\n",
      "Total:6 s\n",
      "\n"
     ]
    },
    {
     "name": "stdout",
     "output_type": "stream",
     "text": [
      "[1] TRUE\n"
     ]
    },
    {
     "name": "stderr",
     "output_type": "stream",
     "text": [
      "Dividing work into 1 chunks...\n",
      "\n",
      "\n",
      "Total:6 s\n",
      "\n"
     ]
    }
   ],
   "source": [
    "task_id=1\n",
    "list          = fread_FT(LIST)\n",
    "subset_tmp    = list[task_id,3]\n",
    "Rdata_path    = list[task_id,1]\n",
    "\n",
    "paste0(\"subset_tmp : \",subset_tmp) %>% print()\n",
    "paste0(\"Rdata_path : \",Rdata_path) %>% print()\n",
    "\n",
    "out_f  = paste0(\"PCAres_Clinical/variancePartition/jackknife_total/\")\n",
    "out_ff = paste0(today(),\"_COI_PC30andClinical_\")\n",
    "\n",
    "load(Rdata_path)\n",
    "cumvar = summary(result)$importance[,1:7] %>% as.data.frame()\n",
    "cumvar_sum = cumvar[3,7]\n",
    "\n",
    "Matrix_full=as.data.frame(result$x) %>% select(1:7) %>% t() %>% as.data.frame()\n",
    "Matrix_full=Matrix_full[,is.element(colnames(Matrix_full),name_list_SLE$name)]\n",
    "\n",
    "for (mmm in 1:ncol(Matrix_full)){\n",
    "     Matrix=Matrix_full[,-mmm] # jackknife -1\n",
    "\n",
    "    Metadata=name_list%>%filter(name%in%colnames(Matrix))%>%select(-id)\n",
    "    Metadata$name=factor(Metadata$name,levels=colnames(Matrix))\n",
    "    Metadata=Metadata[order(Metadata$name),]\n",
    "    Metadata$name=as.character(Metadata$name)\n",
    "\n",
    "    all.equal(colnames(Matrix),Metadata$name) %>% print()\n",
    "   \n",
    "    form = ~ (1|Activity)+PSLmg+(1|Immunosuppressant)+age+(1|gender)\n",
    "    varPart = fitExtractVarPartModel( Matrix, form, Metadata )\n",
    "    varPart_weighed=varPart\n",
    "\n",
    "  for (iii in 1:7){\n",
    "     PC_tmp   = rownames(varPart)[iii]\n",
    "     Prop_raw = cumvar %>% select(all_of(PC_tmp)) %>%.[2,]\n",
    "     Prop_std = Prop_raw/cumvar_sum\n",
    "     varPart_weighed[iii,]=varPart[iii,]*Prop_std\n",
    "   }\n",
    "     colnames(varPart_weighed) = c(\"Activity\",\"Sex\",\"Immunosuppressant\",\"PSL\",\"Age\",\"residual\")\n",
    "     varPart_weighed_sum=apply(varPart_weighed,2,sum) \n",
    "     varPart_weighed_sum=data.frame(varPart_weighed_sum)%>% t()\n",
    "     rownames(varPart_weighed_sum) = paste0(\"test\",mmm)\n",
    "\n",
    "     if(mmm==1){varPart_weighed_jack=varPart_weighed_sum}else{varPart_weighed_jack=rbind(varPart_weighed_jack,varPart_weighed_sum)}\n",
    "}"
   ]
  },
  {
   "cell_type": "markdown",
   "metadata": {},
   "source": [
    "## jackknife all cell types list (Total)"
   ]
  },
  {
   "cell_type": "code",
   "execution_count": 23,
   "metadata": {},
   "outputs": [
    {
     "data": {
      "image/png": "[encoded data removed]",
      "text/plain": [
       "plot without title"
      ]
     },
     "metadata": {
      "image/png": {
       "height": 330,
       "width": 240
      }
     },
     "output_type": "display_data"
    }
   ],
   "source": [
    "list = make_list(\"PCAres_Clinical/variancePartition/jackknife_total\",\"_varPartjack_total.txt\")\n",
    "list$subset = take_factor(list$FILE,5:6,\"_\")\n",
    "Total_sum_ordered=fread_FT(\"PCAres_Clinical/variancePartition/211222_COI_PC30andClinical_varPart_Total_auto.txt\")\n",
    "median =median(Total_sum_ordered$Activity)\n",
    "\n",
    "col2=c(\"CD4\"=\"#cc0010\",\"CD8\"=\"#8b7355\",\"NK\"=\"#e0d51a\",\"B\"=\"#c4f20b\",\"Monocyte\"=\"#1d2088\",\"DC\"=\"#a4fbfa\",\"Neutrophil\"=\"#cccccc\")\n",
    "\n",
    "# summarise results\n",
    "for (kkk in 1:nrow(list)){\n",
    "    subset_tmp= list$subset[kkk]\n",
    "    perc_tmp  = fread_FT(list$PATH[kkk]) %>% select(test,Activity)\n",
    "    percentile=quantile(perc_tmp$Activity,probs=c(0.025,0.975),na.rm=T) %>% as.data.frame() %>% rownames_to_column(\"test\")\n",
    "    colnames(percentile)[2]=\"Activity\"\n",
    "    perc_tmp=rbind(perc_tmp,percentile)\n",
    "    perc_tmp$subset=subset_tmp\n",
    "    perc_tmp=perc_tmp %>% select(subset,test,Activity)\n",
    "    orig_tmp  = Total_sum_ordered %>% filter(subset==subset_tmp) %>% \n",
    "                                      mutate(test=\"orig\") %>% select(subset,test,Activity)\n",
    "\n",
    "    res_tmp=rbind(orig_tmp,perc_tmp) %>% pivot_longer(col=-c(subset,test),names_to=\"parameter\",values_to=\"value\") %>%\n",
    "                                         pivot_wider(names_from=\"test\",values_from=\"value\") \n",
    "\n",
    "    jack_tmp=as.numeric(res_tmp[1,4:(ncol(res_tmp)-2)])\n",
    "    res_tmp$test_num=(ncol(res_tmp)-5)\n",
    "    res_tmp$smaller_num=length(which(jack_tmp<median))\n",
    "    res_tmp$median=median\n",
    "    res_tmp$Pjack=(res_tmp$smaller_num/res_tmp$test_num)\n",
    "    res_tmp2=res_tmp%>%select(\"subset\",\"parameter\",\"orig\",\"2.5%\",\"97.5%\",\"median\",\"test_num\",\"smaller_num\",\"Pjack\")\n",
    "    colnames(res_tmp2)[4:5]=c(\"lower\",\"upper\")\n",
    "\n",
    "    if(kkk==1){res_sum=res_tmp2}else{res_sum=rbind(res_sum,res_tmp2)}\n",
    "}\n",
    "\n",
    "res_sum$BonfP = p.adjust(res_sum$Pjack,method=(\"bonferroni\"))\n",
    "\n",
    "res_sum_act=res_sum %>% left_join(.,celltype_corresp[,1:3],by=\"subset\")\n",
    "res_sum_act$subset    = factor(res_sum_act$subset,levels=rev(celltype_reordered_27))\n",
    "res_sum_act$lineage   = factor(res_sum_act$lineage,levels=c(\"CD4\",\"CD8\",\"NK\",\"B\",\"Monocyte\",\"DC\",\"Neutrophil\"))\n",
    "res_sum_act$sig=ifelse(res_sum_act$BonfP<0.05,\"*\",\"\")\n",
    "\n",
    "p = ggplot(data=res_sum_act, aes(x=subset,y=orig,ymin=lower,ymax=upper,fill=lineage))+\n",
    "  geom_bar(stat=\"identity\")+\n",
    "  geom_hline(yintercept=median,col=\"black\",linetype=\"longdash\")+\n",
    "  geom_errorbar(width=0.2)+\n",
    "  geom_text(aes(label=sig,y=0.2),size=7,vjust=0.75)+\n",
    "  theme_classic()+\n",
    "  coord_flip()+\n",
    "  #facet_wrap(~ parameter,ncol = 5)+\n",
    "  scale_fill_manual(values=col2)+\n",
    "  theme(axis.text.x=element_text(colour=\"black\",size=16),\n",
    "         axis.text.y=element_text(colour=\"black\",size=16),\n",
    "         axis.title.x=element_text(colour=\"black\",size=16),\n",
    "         axis.title.y=element_blank(),\n",
    "         plot.title=element_blank(),\n",
    "         strip.text=element_text(colour=\"black\",size=16),\n",
    "         legend.position=\"none\")+\n",
    "  scale_x_discrete(labels= label)+\n",
    "  scale_y_continuous(breaks= c(0,0.1,0.2))+\n",
    "  labs(y=\"Variance explained\")\n",
    "\n",
    "options(repr.plot.width=4, repr.plot.height=5.5)\n",
    "p # Fig 5c: overall disease activity"
   ]
  },
  {
   "cell_type": "markdown",
   "metadata": {},
   "source": [
    "## Variance partition organ activity + Each Tx"
   ]
  },
  {
   "cell_type": "code",
   "execution_count": 24,
   "metadata": {},
   "outputs": [],
   "source": [
    "list = fread_FT(\"tmp_job_list/211128_COI_SLEuniqueandHC_27subsets_AfterCombat_PCres_list.txt\")"
   ]
  },
  {
   "cell_type": "code",
   "execution_count": 25,
   "metadata": {
    "scrolled": true
   },
   "outputs": [
    {
     "name": "stdout",
     "output_type": "stream",
     "text": [
      "[1] TRUE\n"
     ]
    },
    {
     "name": "stderr",
     "output_type": "stream",
     "text": [
      "Dividing work into 1 chunks...\n",
      "\n",
      "\n",
      "Total:8 s\n",
      "\n"
     ]
    },
    {
     "name": "stdout",
     "output_type": "stream",
     "text": [
      "[1] TRUE\n"
     ]
    },
    {
     "name": "stderr",
     "output_type": "stream",
     "text": [
      "Dividing work into 1 chunks...\n",
      "\n",
      "\n",
      "Total:8 s\n",
      "\n"
     ]
    },
    {
     "name": "stdout",
     "output_type": "stream",
     "text": [
      "[1] TRUE\n"
     ]
    },
    {
     "name": "stderr",
     "output_type": "stream",
     "text": [
      "Dividing work into 1 chunks...\n",
      "\n",
      "\n",
      "Total:8 s\n",
      "\n"
     ]
    },
    {
     "name": "stdout",
     "output_type": "stream",
     "text": [
      "[1] TRUE\n"
     ]
    },
    {
     "name": "stderr",
     "output_type": "stream",
     "text": [
      "Dividing work into 1 chunks...\n",
      "\n",
      "\n",
      "Total:8 s\n",
      "\n"
     ]
    },
    {
     "name": "stdout",
     "output_type": "stream",
     "text": [
      "[1] TRUE\n"
     ]
    },
    {
     "name": "stderr",
     "output_type": "stream",
     "text": [
      "Dividing work into 1 chunks...\n",
      "\n",
      "\n",
      "Total:9 s\n",
      "\n"
     ]
    },
    {
     "name": "stdout",
     "output_type": "stream",
     "text": [
      "[1] TRUE\n"
     ]
    },
    {
     "name": "stderr",
     "output_type": "stream",
     "text": [
      "Dividing work into 1 chunks...\n",
      "\n",
      "\n",
      "Total:8 s\n",
      "\n"
     ]
    },
    {
     "name": "stdout",
     "output_type": "stream",
     "text": [
      "[1] TRUE\n"
     ]
    },
    {
     "name": "stderr",
     "output_type": "stream",
     "text": [
      "Dividing work into 1 chunks...\n",
      "\n",
      "\n",
      "Total:8 s\n",
      "\n"
     ]
    },
    {
     "name": "stdout",
     "output_type": "stream",
     "text": [
      "[1] TRUE\n"
     ]
    },
    {
     "name": "stderr",
     "output_type": "stream",
     "text": [
      "Dividing work into 1 chunks...\n",
      "\n",
      "\n",
      "Total:8 s\n",
      "\n"
     ]
    },
    {
     "name": "stdout",
     "output_type": "stream",
     "text": [
      "[1] TRUE\n"
     ]
    },
    {
     "name": "stderr",
     "output_type": "stream",
     "text": [
      "Dividing work into 1 chunks...\n",
      "\n",
      "\n",
      "Total:9 s\n",
      "\n"
     ]
    },
    {
     "name": "stdout",
     "output_type": "stream",
     "text": [
      "[1] TRUE\n"
     ]
    },
    {
     "name": "stderr",
     "output_type": "stream",
     "text": [
      "Dividing work into 1 chunks...\n",
      "\n",
      "\n",
      "Total:8 s\n",
      "\n"
     ]
    },
    {
     "name": "stdout",
     "output_type": "stream",
     "text": [
      "[1] TRUE\n"
     ]
    },
    {
     "name": "stderr",
     "output_type": "stream",
     "text": [
      "Dividing work into 1 chunks...\n",
      "\n",
      "\n",
      "Total:8 s\n",
      "\n"
     ]
    },
    {
     "name": "stdout",
     "output_type": "stream",
     "text": [
      "[1] TRUE\n"
     ]
    },
    {
     "name": "stderr",
     "output_type": "stream",
     "text": [
      "Dividing work into 1 chunks...\n",
      "\n",
      "\n",
      "Total:8 s\n",
      "\n"
     ]
    },
    {
     "name": "stdout",
     "output_type": "stream",
     "text": [
      "[1] TRUE\n"
     ]
    },
    {
     "name": "stderr",
     "output_type": "stream",
     "text": [
      "Dividing work into 1 chunks...\n",
      "\n",
      "\n",
      "Total:8 s\n",
      "\n"
     ]
    },
    {
     "name": "stdout",
     "output_type": "stream",
     "text": [
      "[1] TRUE\n"
     ]
    },
    {
     "name": "stderr",
     "output_type": "stream",
     "text": [
      "Dividing work into 1 chunks...\n",
      "\n",
      "\n",
      "Total:8 s\n",
      "\n"
     ]
    },
    {
     "name": "stdout",
     "output_type": "stream",
     "text": [
      "[1] TRUE\n"
     ]
    },
    {
     "name": "stderr",
     "output_type": "stream",
     "text": [
      "Dividing work into 1 chunks...\n",
      "\n",
      "\n",
      "Total:8 s\n",
      "\n"
     ]
    },
    {
     "name": "stdout",
     "output_type": "stream",
     "text": [
      "[1] TRUE\n"
     ]
    },
    {
     "name": "stderr",
     "output_type": "stream",
     "text": [
      "Dividing work into 1 chunks...\n",
      "\n",
      "\n",
      "Total:8 s\n",
      "\n"
     ]
    },
    {
     "name": "stdout",
     "output_type": "stream",
     "text": [
      "[1] TRUE\n"
     ]
    },
    {
     "name": "stderr",
     "output_type": "stream",
     "text": [
      "Dividing work into 1 chunks...\n",
      "\n",
      "\n",
      "Total:8 s\n",
      "\n"
     ]
    },
    {
     "name": "stdout",
     "output_type": "stream",
     "text": [
      "[1] TRUE\n"
     ]
    },
    {
     "name": "stderr",
     "output_type": "stream",
     "text": [
      "Dividing work into 1 chunks...\n",
      "\n",
      "\n",
      "Total:8 s\n",
      "\n"
     ]
    },
    {
     "name": "stdout",
     "output_type": "stream",
     "text": [
      "[1] TRUE\n"
     ]
    },
    {
     "name": "stderr",
     "output_type": "stream",
     "text": [
      "Dividing work into 1 chunks...\n",
      "\n",
      "\n",
      "Total:8 s\n",
      "\n"
     ]
    },
    {
     "name": "stdout",
     "output_type": "stream",
     "text": [
      "[1] TRUE\n"
     ]
    },
    {
     "name": "stderr",
     "output_type": "stream",
     "text": [
      "Dividing work into 1 chunks...\n",
      "\n",
      "\n",
      "Total:9 s\n",
      "\n"
     ]
    },
    {
     "name": "stdout",
     "output_type": "stream",
     "text": [
      "[1] TRUE\n"
     ]
    },
    {
     "name": "stderr",
     "output_type": "stream",
     "text": [
      "Dividing work into 1 chunks...\n",
      "\n",
      "\n",
      "Total:8 s\n",
      "\n"
     ]
    },
    {
     "name": "stdout",
     "output_type": "stream",
     "text": [
      "[1] TRUE\n"
     ]
    },
    {
     "name": "stderr",
     "output_type": "stream",
     "text": [
      "Dividing work into 1 chunks...\n",
      "\n",
      "\n",
      "Total:9 s\n",
      "\n"
     ]
    },
    {
     "name": "stdout",
     "output_type": "stream",
     "text": [
      "[1] TRUE\n"
     ]
    },
    {
     "name": "stderr",
     "output_type": "stream",
     "text": [
      "Dividing work into 1 chunks...\n",
      "\n",
      "\n",
      "Total:8 s\n",
      "\n"
     ]
    },
    {
     "name": "stdout",
     "output_type": "stream",
     "text": [
      "[1] TRUE\n"
     ]
    },
    {
     "name": "stderr",
     "output_type": "stream",
     "text": [
      "Dividing work into 1 chunks...\n",
      "\n",
      "\n",
      "Total:8 s\n",
      "\n"
     ]
    },
    {
     "name": "stdout",
     "output_type": "stream",
     "text": [
      "[1] TRUE\n"
     ]
    },
    {
     "name": "stderr",
     "output_type": "stream",
     "text": [
      "Dividing work into 1 chunks...\n",
      "\n",
      "\n",
      "Total:8 s\n",
      "\n"
     ]
    },
    {
     "name": "stdout",
     "output_type": "stream",
     "text": [
      "[1] TRUE\n"
     ]
    },
    {
     "name": "stderr",
     "output_type": "stream",
     "text": [
      "Dividing work into 1 chunks...\n",
      "\n",
      "\n",
      "Total:9 s\n",
      "\n"
     ]
    },
    {
     "name": "stdout",
     "output_type": "stream",
     "text": [
      "[1] TRUE\n"
     ]
    },
    {
     "name": "stderr",
     "output_type": "stream",
     "text": [
      "Dividing work into 1 chunks...\n",
      "\n",
      "\n",
      "Total:8 s\n",
      "\n"
     ]
    }
   ],
   "source": [
    "for (kkk in 1:nrow(list)){\n",
    "    subset_tmp=list$subset[kkk]\n",
    "    load(list$PATH[kkk])\n",
    "    cumvar = summary(result)$importance[,1:7] %>% as.data.frame()\n",
    "    cumvar_sum = cumvar[3,7]\n",
    "\n",
    "    Matrix=as.data.frame(result$x) %>% select(1:7) %>% t() %>% as.data.frame()\n",
    "\n",
    "    Metadata=name_list_SLE%>%filter(name%in%colnames(Matrix))%>%select(-id) # SLE only\n",
    "    Matrix=Matrix[,Metadata$name]\n",
    "\n",
    "    Metadata$name=factor(Metadata$name,levels=colnames(Matrix))\n",
    "    Metadata=Metadata[order(Metadata$name),]\n",
    "    Metadata$name=as.character(Metadata$name)\n",
    "\n",
    "    all.equal(colnames(Matrix),Metadata$name) %>% print()\n",
    "   \n",
    "    form = ~ (1|constitutional)+(1|mucocutaneous)+(1|musculoskeletal)+(1|renal)+(1|extrarenal)+(1|hematological)+(1|serological)+PSLmg+(1|HCQ)+(1|MMF)+(1|TAC)+age+(1|gender)\n",
    "    varPart = fitExtractVarPartModel( Matrix, form, Metadata ) %>% as.data.frame()\n",
    "    varPart_weighed=varPart\n",
    "\n",
    "  for (iii in 1:7){\n",
    "     PC_tmp   = rownames(varPart)[iii]\n",
    "     Prop_raw = cumvar %>% select(all_of(PC_tmp)) %>%.[2,]\n",
    "     Prop_std = Prop_raw/cumvar_sum\n",
    "     varPart_weighed[iii,]=varPart[iii,]*Prop_std\n",
    "   }\n",
    "     colnames(varPart_weighed) = c(\"Constitutional\",\"Extrarenal\",\"Sex\",\"HCQ\",\"Hematological\",\"MMF\",\"Mucocutaneous\",\"Musculoskeletal\",\"Renal\",\"Serological\",\"TAC\",\"PSL\",\"Age\",\"residual\")\n",
    "     varPart_weighed_sum=apply(varPart_weighed,2,sum) %>% as.data.frame() %>% t() %>% as.data.frame()\n",
    "     varPart_weighed_sum$subset=subset_tmp\n",
    "     if(kkk==1){varPart_weighed_sum2=varPart_weighed_sum}else{varPart_weighed_sum2=rbind(varPart_weighed_sum2,varPart_weighed_sum)}\n",
    "  }\n",
    "Organ_sum=varPart_weighed_sum2 %>% select(\"subset\",\"Constitutional\",\"Mucocutaneous\",\"Musculoskeletal\",\"Renal\",\"Extrarenal\",\"Hematological\",\"Serological\",\"PSL\",\"HCQ\",\"MMF\",\"TAC\",\"Sex\",\"Age\")"
   ]
  },
  {
   "cell_type": "code",
   "execution_count": 26,
   "metadata": {},
   "outputs": [
    {
     "data": {
      "text/html": [
       "<table class=\"dataframe\">\n",
       "<caption>A data.frame: 6 × 14</caption>\n",
       "<thead>\n",
       "\t<tr><th></th><th scope=col>subset</th><th scope=col>Constitutional</th><th scope=col>Mucocutaneous</th><th scope=col>Musculoskeletal</th><th scope=col>Renal</th><th scope=col>Extrarenal</th><th scope=col>Hematological</th><th scope=col>Serological</th><th scope=col>PSL</th><th scope=col>HCQ</th><th scope=col>MMF</th><th scope=col>TAC</th><th scope=col>Sex</th><th scope=col>Age</th></tr>\n",
       "\t<tr><th></th><th scope=col>&lt;chr&gt;</th><th scope=col>&lt;dbl&gt;</th><th scope=col>&lt;dbl&gt;</th><th scope=col>&lt;dbl&gt;</th><th scope=col>&lt;dbl&gt;</th><th scope=col>&lt;dbl&gt;</th><th scope=col>&lt;dbl&gt;</th><th scope=col>&lt;dbl&gt;</th><th scope=col>&lt;dbl&gt;</th><th scope=col>&lt;dbl&gt;</th><th scope=col>&lt;dbl&gt;</th><th scope=col>&lt;dbl&gt;</th><th scope=col>&lt;dbl&gt;</th><th scope=col>&lt;dbl&gt;</th></tr>\n",
       "</thead>\n",
       "<tbody>\n",
       "\t<tr><th scope=row>.</th><td>A01_NaiB  </td><td>8.421760e-03</td><td>0.008987972</td><td>0.007828197</td><td>0.019656429</td><td>1.824161e-02</td><td>0.009319307</td><td>0.003568734</td><td>0.019909847</td><td>1.359297e-03</td><td>0.002382338</td><td>0.005320801</td><td>2.476140e-03</td><td>0.012366780</td></tr>\n",
       "\t<tr><th scope=row>.1</th><td>A02_SwiMB </td><td>1.218588e-02</td><td>0.014054119</td><td>0.024606957</td><td>0.014410367</td><td>2.295658e-04</td><td>0.020439779</td><td>0.012476054</td><td>0.015609850</td><td>1.288626e-02</td><td>0.015442002</td><td>0.009226318</td><td>2.478979e-06</td><td>0.012441300</td></tr>\n",
       "\t<tr><th scope=row>.2</th><td>A03_UnswMB</td><td>2.659259e-03</td><td>0.009988264</td><td>0.004969300</td><td>0.003624904</td><td>1.756651e-02</td><td>0.006477896</td><td>0.008360897</td><td>0.013980492</td><td>3.861478e-04</td><td>0.009225507</td><td>0.000984789</td><td>2.267291e-10</td><td>0.007525446</td></tr>\n",
       "\t<tr><th scope=row>.3</th><td>A04_DNB   </td><td>5.807611e-03</td><td>0.007097651</td><td>0.010835078</td><td>0.011775614</td><td>3.428717e-03</td><td>0.006747309</td><td>0.002999236</td><td>0.023547410</td><td>9.970509e-03</td><td>0.007858929</td><td>0.016538126</td><td>2.604175e-03</td><td>0.006402590</td></tr>\n",
       "\t<tr><th scope=row>.4</th><td>A05_PB    </td><td>2.085727e-08</td><td>0.021012862</td><td>0.052618884</td><td>0.040754343</td><td>2.261467e-04</td><td>0.032630044</td><td>0.010700900</td><td>0.008012210</td><td>1.133665e-08</td><td>0.125157899</td><td>0.009966744</td><td>9.662772e-05</td><td>0.009718670</td></tr>\n",
       "\t<tr><th scope=row>.5</th><td>B01_Th1   </td><td>3.886754e-02</td><td>0.051655954</td><td>0.022679114</td><td>0.042662417</td><td>1.957408e-10</td><td>0.007870962</td><td>0.012371541</td><td>0.002641441</td><td>3.931512e-02</td><td>0.081982905</td><td>0.002906800</td><td>3.840770e-02</td><td>0.013141292</td></tr>\n",
       "</tbody>\n",
       "</table>\n"
      ],
      "text/latex": [
       "A data.frame: 6 × 14\n",
       "\\begin{tabular}{r|llllllllllllll}\n",
       "  & subset & Constitutional & Mucocutaneous & Musculoskeletal & Renal & Extrarenal & Hematological & Serological & PSL & HCQ & MMF & TAC & Sex & Age\\\\\n",
       "  & <chr> & <dbl> & <dbl> & <dbl> & <dbl> & <dbl> & <dbl> & <dbl> & <dbl> & <dbl> & <dbl> & <dbl> & <dbl> & <dbl>\\\\\n",
       "\\hline\n",
       "\t. & A01\\_NaiB   & 8.421760e-03 & 0.008987972 & 0.007828197 & 0.019656429 & 1.824161e-02 & 0.009319307 & 0.003568734 & 0.019909847 & 1.359297e-03 & 0.002382338 & 0.005320801 & 2.476140e-03 & 0.012366780\\\\\n",
       "\t.1 & A02\\_SwiMB  & 1.218588e-02 & 0.014054119 & 0.024606957 & 0.014410367 & 2.295658e-04 & 0.020439779 & 0.012476054 & 0.015609850 & 1.288626e-02 & 0.015442002 & 0.009226318 & 2.478979e-06 & 0.012441300\\\\\n",
       "\t.2 & A03\\_UnswMB & 2.659259e-03 & 0.009988264 & 0.004969300 & 0.003624904 & 1.756651e-02 & 0.006477896 & 0.008360897 & 0.013980492 & 3.861478e-04 & 0.009225507 & 0.000984789 & 2.267291e-10 & 0.007525446\\\\\n",
       "\t.3 & A04\\_DNB    & 5.807611e-03 & 0.007097651 & 0.010835078 & 0.011775614 & 3.428717e-03 & 0.006747309 & 0.002999236 & 0.023547410 & 9.970509e-03 & 0.007858929 & 0.016538126 & 2.604175e-03 & 0.006402590\\\\\n",
       "\t.4 & A05\\_PB     & 2.085727e-08 & 0.021012862 & 0.052618884 & 0.040754343 & 2.261467e-04 & 0.032630044 & 0.010700900 & 0.008012210 & 1.133665e-08 & 0.125157899 & 0.009966744 & 9.662772e-05 & 0.009718670\\\\\n",
       "\t.5 & B01\\_Th1    & 3.886754e-02 & 0.051655954 & 0.022679114 & 0.042662417 & 1.957408e-10 & 0.007870962 & 0.012371541 & 0.002641441 & 3.931512e-02 & 0.081982905 & 0.002906800 & 3.840770e-02 & 0.013141292\\\\\n",
       "\\end{tabular}\n"
      ],
      "text/markdown": [
       "\n",
       "A data.frame: 6 × 14\n",
       "\n",
       "| <!--/--> | subset &lt;chr&gt; | Constitutional &lt;dbl&gt; | Mucocutaneous &lt;dbl&gt; | Musculoskeletal &lt;dbl&gt; | Renal &lt;dbl&gt; | Extrarenal &lt;dbl&gt; | Hematological &lt;dbl&gt; | Serological &lt;dbl&gt; | PSL &lt;dbl&gt; | HCQ &lt;dbl&gt; | MMF &lt;dbl&gt; | TAC &lt;dbl&gt; | Sex &lt;dbl&gt; | Age &lt;dbl&gt; |\n",
       "|---|---|---|---|---|---|---|---|---|---|---|---|---|---|---|\n",
       "| . | A01_NaiB   | 8.421760e-03 | 0.008987972 | 0.007828197 | 0.019656429 | 1.824161e-02 | 0.009319307 | 0.003568734 | 0.019909847 | 1.359297e-03 | 0.002382338 | 0.005320801 | 2.476140e-03 | 0.012366780 |\n",
       "| .1 | A02_SwiMB  | 1.218588e-02 | 0.014054119 | 0.024606957 | 0.014410367 | 2.295658e-04 | 0.020439779 | 0.012476054 | 0.015609850 | 1.288626e-02 | 0.015442002 | 0.009226318 | 2.478979e-06 | 0.012441300 |\n",
       "| .2 | A03_UnswMB | 2.659259e-03 | 0.009988264 | 0.004969300 | 0.003624904 | 1.756651e-02 | 0.006477896 | 0.008360897 | 0.013980492 | 3.861478e-04 | 0.009225507 | 0.000984789 | 2.267291e-10 | 0.007525446 |\n",
       "| .3 | A04_DNB    | 5.807611e-03 | 0.007097651 | 0.010835078 | 0.011775614 | 3.428717e-03 | 0.006747309 | 0.002999236 | 0.023547410 | 9.970509e-03 | 0.007858929 | 0.016538126 | 2.604175e-03 | 0.006402590 |\n",
       "| .4 | A05_PB     | 2.085727e-08 | 0.021012862 | 0.052618884 | 0.040754343 | 2.261467e-04 | 0.032630044 | 0.010700900 | 0.008012210 | 1.133665e-08 | 0.125157899 | 0.009966744 | 9.662772e-05 | 0.009718670 |\n",
       "| .5 | B01_Th1    | 3.886754e-02 | 0.051655954 | 0.022679114 | 0.042662417 | 1.957408e-10 | 0.007870962 | 0.012371541 | 0.002641441 | 3.931512e-02 | 0.081982905 | 0.002906800 | 3.840770e-02 | 0.013141292 |\n",
       "\n"
      ],
      "text/plain": [
       "   subset     Constitutional Mucocutaneous Musculoskeletal Renal      \n",
       ".  A01_NaiB   8.421760e-03   0.008987972   0.007828197     0.019656429\n",
       ".1 A02_SwiMB  1.218588e-02   0.014054119   0.024606957     0.014410367\n",
       ".2 A03_UnswMB 2.659259e-03   0.009988264   0.004969300     0.003624904\n",
       ".3 A04_DNB    5.807611e-03   0.007097651   0.010835078     0.011775614\n",
       ".4 A05_PB     2.085727e-08   0.021012862   0.052618884     0.040754343\n",
       ".5 B01_Th1    3.886754e-02   0.051655954   0.022679114     0.042662417\n",
       "   Extrarenal   Hematological Serological PSL         HCQ          MMF        \n",
       ".  1.824161e-02 0.009319307   0.003568734 0.019909847 1.359297e-03 0.002382338\n",
       ".1 2.295658e-04 0.020439779   0.012476054 0.015609850 1.288626e-02 0.015442002\n",
       ".2 1.756651e-02 0.006477896   0.008360897 0.013980492 3.861478e-04 0.009225507\n",
       ".3 3.428717e-03 0.006747309   0.002999236 0.023547410 9.970509e-03 0.007858929\n",
       ".4 2.261467e-04 0.032630044   0.010700900 0.008012210 1.133665e-08 0.125157899\n",
       ".5 1.957408e-10 0.007870962   0.012371541 0.002641441 3.931512e-02 0.081982905\n",
       "   TAC         Sex          Age        \n",
       ".  0.005320801 2.476140e-03 0.012366780\n",
       ".1 0.009226318 2.478979e-06 0.012441300\n",
       ".2 0.000984789 2.267291e-10 0.007525446\n",
       ".3 0.016538126 2.604175e-03 0.006402590\n",
       ".4 0.009966744 9.662772e-05 0.009718670\n",
       ".5 0.002906800 3.840770e-02 0.013141292"
      ]
     },
     "metadata": {},
     "output_type": "display_data"
    }
   ],
   "source": [
    "head(Organ_sum)"
   ]
  },
  {
   "cell_type": "markdown",
   "metadata": {},
   "source": [
    "## jackknife all cell types list (organ, Tx)"
   ]
  },
  {
   "cell_type": "code",
   "execution_count": 27,
   "metadata": {},
   "outputs": [],
   "source": [
    "list = make_list(\"PCAres_Clinical/variancePartition/jackknife_organ\",\"_varPartjack_organ.txt\")\n",
    "list$subset = take_factor(list$FILE,5:6,\"_\")\n",
    "Organ_sum_ordered = fread_FT(\"PCAres_Clinical/variancePartition/211222_COI_PC30andClinical_varPart_Organ_auto.txt\")"
   ]
  },
  {
   "cell_type": "code",
   "execution_count": 28,
   "metadata": {},
   "outputs": [
    {
     "data": {
      "image/png": "[encoded data removed]",
      "text/plain": [
       "plot without title"
      ]
     },
     "metadata": {
      "image/png": {
       "height": 330,
       "width": 240
      }
     },
     "output_type": "display_data"
    }
   ],
   "source": [
    "iii =4 # Renal\n",
    "\n",
    "    parameter_tmp = colnames(Organ_sum_ordered)[iii+1]\n",
    "    median = median(Organ_sum_ordered[,(iii+1)])\n",
    "\n",
    "  for (kkk in 1:nrow(list)){\n",
    "    subset_tmp= list$subset[kkk]\n",
    "    perc_tmp  = fread_FT(list$PATH[kkk]) %>% select(test,all_of(parameter_tmp))\n",
    "    percentile=quantile(perc_tmp[,2],probs=c(0.025,0.975),na.rm=T) %>% as.data.frame() %>% rownames_to_column(\"test\")\n",
    "    colnames(percentile)[2]=parameter_tmp\n",
    "    perc_tmp=rbind(perc_tmp,percentile)\n",
    "    perc_tmp$subset=subset_tmp\n",
    "    perc_tmp=perc_tmp %>% select(subset,test,all_of(parameter_tmp))\n",
    "    orig_tmp  = Organ_sum_ordered %>% filter(subset==subset_tmp) %>% \n",
    "                                      mutate(test=\"orig\") %>% select(subset,test,all_of(parameter_tmp))\n",
    "\n",
    "    res_tmp=rbind(orig_tmp,perc_tmp) %>% pivot_longer(col=-c(subset,test),names_to=\"parameter\",values_to=\"value\") %>%\n",
    "                                         pivot_wider(names_from=\"test\",values_from=\"value\") \n",
    "\n",
    "    jack_tmp=as.numeric(res_tmp[1,4:(ncol(res_tmp)-2)])\n",
    "    res_tmp$test_num=(ncol(res_tmp)-5)\n",
    "    res_tmp$smaller_num=length(which(jack_tmp<median))\n",
    "    res_tmp$median=median\n",
    "    res_tmp$Pjack=(res_tmp$smaller_num/res_tmp$test_num)\n",
    "    res_tmp2=res_tmp%>%select(\"subset\",\"parameter\",\"orig\",\"2.5%\",\"97.5%\",\"median\",\"test_num\",\"smaller_num\",\"Pjack\")\n",
    "    colnames(res_tmp2)[4:5]=c(\"lower\",\"upper\")\n",
    "\n",
    "    if(kkk==1){res_sum=res_tmp2}else{res_sum=rbind(res_sum,res_tmp2)}\n",
    "  }\n",
    "\n",
    "res_sum$BonfP = p.adjust(res_sum$Pjack,method=(\"bonferroni\"))\n",
    "\n",
    "res_sum_tmp=res_sum %>% left_join(.,celltype_corresp[,1:3],by=\"subset\")\n",
    "res_sum_tmp$subset    = factor(res_sum_tmp$subset,levels=rev(celltype_reordered_27))\n",
    "res_sum_tmp$lineage   = factor(res_sum_tmp$lineage,levels=c(\"CD4\",\"CD8\",\"NK\",\"B\",\"Monocyte\",\"DC\",\"Neutrophil\"))\n",
    "res_sum_tmp$sig=ifelse(res_sum_tmp$BonfP<0.05,\"*\",\"\")\n",
    "\n",
    "p = ggplot(data=res_sum_tmp, aes(x=subset,y=orig,ymin=lower,ymax=upper,fill=lineage))+\n",
    "  geom_bar(stat=\"identity\")+\n",
    "  geom_hline(yintercept=median,col=\"black\",linetype=\"longdash\")+\n",
    "  geom_errorbar(width=0.2)+\n",
    "  geom_text(aes(label=sig,y=0.1),size=7,vjust=0.75)+\n",
    "  theme_classic()+\n",
    "  coord_flip()+\n",
    "  #facet_wrap(~ parameter,ncol = 5)+\n",
    "  scale_fill_manual(values=col2)+\n",
    "  theme(axis.text.x=element_text(colour=\"black\",size=16),\n",
    "         axis.text.y=element_text(colour=\"black\",size=16),\n",
    "         axis.title.x=element_text(colour=\"black\",size=16),\n",
    "         axis.title.y=element_blank(),\n",
    "         plot.title=element_blank(),\n",
    "         strip.text=element_text(colour=\"black\",size=16),\n",
    "         legend.position=\"none\")+\n",
    "  scale_x_discrete(labels= label)+\n",
    "  scale_y_continuous(limits=c(0,0.102),breaks= c(0,0.05,0.1))+\n",
    "  labs(y=\"Variance explained\")\n",
    "\n",
    "options(repr.plot.width=4, repr.plot.height=5.5)\n",
    "p # Fig 5c: renal activity"
   ]
  },
  {
   "cell_type": "code",
   "execution_count": 30,
   "metadata": {},
   "outputs": [
    {
     "data": {
      "text/plain": [
       "R version 4.0.2 (2020-06-22)\n",
       "Platform: x86_64-pc-linux-gnu (64-bit)\n",
       "Running under: CentOS Linux 7 (Core)\n",
       "\n",
       "Matrix products: default\n",
       "BLAS:   /usr/local/package/r/4.0.2/lib64/R/lib/libRblas.so\n",
       "LAPACK: /usr/local/package/r/4.0.2/lib64/R/lib/libRlapack.so\n",
       "\n",
       "locale:\n",
       " [1] LC_CTYPE=ja_JP.UTF-8       LC_NUMERIC=C              \n",
       " [3] LC_TIME=ja_JP.UTF-8        LC_COLLATE=ja_JP.UTF-8    \n",
       " [5] LC_MONETARY=ja_JP.UTF-8    LC_MESSAGES=ja_JP.UTF-8   \n",
       " [7] LC_PAPER=ja_JP.UTF-8       LC_NAME=C                 \n",
       " [9] LC_ADDRESS=C               LC_TELEPHONE=C            \n",
       "[11] LC_MEASUREMENT=ja_JP.UTF-8 LC_IDENTIFICATION=C       \n",
       "\n",
       "attached base packages:\n",
       "[1] parallel  stats     graphics  grDevices utils     datasets  methods  \n",
       "[8] base     \n",
       "\n",
       "other attached packages:\n",
       " [1] variancePartition_1.20.0 Biobase_2.50.0           BiocGenerics_0.36.1     \n",
       " [4] scales_1.1.1             BiocParallel_1.24.1      limma_3.46.0            \n",
       " [7] lme4_1.1-27.1            Matrix_1.3-4             ggsci_2.9               \n",
       "[10] RColorBrewer_1.1-2       data.table_1.14.0        forcats_0.5.1           \n",
       "[13] stringr_1.4.0            dplyr_1.0.7              purrr_0.3.4             \n",
       "[16] readr_1.4.0              tidyr_1.1.3              tibble_3.1.2            \n",
       "[19] ggplot2_3.3.5            tidyverse_1.3.1         \n",
       "\n",
       "loaded via a namespace (and not attached):\n",
       " [1] nlme_3.1-152       pbkrtest_0.5.1     bitops_1.0-7       fs_1.5.0          \n",
       " [5] lubridate_1.7.10   progress_1.2.2     doParallel_1.0.16  httr_1.4.2        \n",
       " [9] repr_1.1.3         tools_4.0.2        backports_1.2.1    utf8_1.2.1        \n",
       "[13] R6_2.5.0           KernSmooth_2.23-20 DBI_1.1.1          colorspace_2.0-2  \n",
       "[17] withr_2.4.2        prettyunits_1.1.1  tidyselect_1.1.1   compiler_4.0.2    \n",
       "[21] cli_2.5.0          rvest_1.0.0        Cairo_1.5-12.2     xml2_1.3.2        \n",
       "[25] caTools_1.18.2     pbdZMQ_0.3-5       digest_0.6.27      minqa_1.2.4       \n",
       "[29] colorRamps_2.3     base64enc_0.1-3    pkgconfig_2.0.3    htmltools_0.5.1.1 \n",
       "[33] dbplyr_2.1.1       rlang_0.4.11       readxl_1.3.1       rstudioapi_0.13   \n",
       "[37] farver_2.1.0       generics_0.1.0     jsonlite_1.7.2     gtools_3.9.2      \n",
       "[41] magrittr_2.0.1     Rcpp_1.0.6         IRkernel_1.2       munsell_0.5.0     \n",
       "[45] fansi_0.5.0        lifecycle_1.0.0    stringi_1.6.2      MASS_7.3-54       \n",
       "[49] plyr_1.8.6         gplots_3.1.1       grid_4.0.2         crayon_1.4.1      \n",
       "[53] lattice_0.20-41    IRdisplay_1.0      haven_2.4.1        splines_4.0.2     \n",
       "[57] hms_1.1.0          ps_1.6.0           pillar_1.6.1       uuid_0.1-4        \n",
       "[61] boot_1.3-28        reshape2_1.4.4     codetools_0.2-18   reprex_2.0.0      \n",
       "[65] glue_1.4.2         evaluate_0.14      modelr_0.1.8       vctrs_0.3.8       \n",
       "[69] nloptr_1.2.2.2     foreach_1.5.1      cellranger_1.1.0   gtable_0.3.0      \n",
       "[73] assertthat_0.2.1   broom_0.7.8        iterators_1.0.13   ellipsis_0.3.2    "
      ]
     },
     "metadata": {},
     "output_type": "display_data"
    }
   ],
   "source": [
    "sessionInfo()"
   ]
  },
  {
   "cell_type": "code",
   "execution_count": null,
   "metadata": {},
   "outputs": [],
   "source": []
  }
 ],
 "metadata": {
  "kernelspec": {
   "display_name": "R",
   "language": "R",
   "name": "ir"
  },
  "language_info": {
   "codemirror_mode": "r",
   "file_extension": ".r",
   "mimetype": "text/x-r-source",
   "name": "R",
   "pygments_lexer": "r",
   "version": "4.0.2"
  }
 },
 "nbformat": 4,
 "nbformat_minor": 2
}
